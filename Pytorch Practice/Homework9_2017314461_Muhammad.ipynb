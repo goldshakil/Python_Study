{
  "nbformat": 4,
  "nbformat_minor": 0,
  "metadata": {
    "colab": {
      "name": "Homework9-2017314461-Muhammad.ipynb",
      "provenance": [],
      "collapsed_sections": [
        "R3LcZPiSNLVr",
        "hiKql8qqSx8w",
        "_CpYwfTNccB2",
        "XpV9AMbaey7H",
        "3DKMwXxL_RNf",
        "bePRVHgn_z-B",
        "hcjv0Rwl_0yL",
        "6pcFTtfUBrSv"
      ]
    },
    "kernelspec": {
      "name": "python3",
      "display_name": "Python 3"
    }
  },
  "cells": [
    {
      "cell_type": "markdown",
      "metadata": {
        "id": "PpDHSZf1JWcz",
        "colab_type": "text"
      },
      "source": [
        "## 2017314461 Muhammad Shakeel Zuhaib\n",
        "Homework 9 (AI Porject)\n",
        "\n",
        "NLP using character level LSTM"
      ]
    },
    {
      "cell_type": "markdown",
      "metadata": {
        "id": "4mREu6XM6IT_",
        "colab_type": "text"
      },
      "source": [
        "### Differences to Pytorch tutorial:\n",
        "1) Removed duplicates from the dataset so that training and testing/evaluation have unique data.\n",
        "\n",
        "2) Restricted the training data upto 70% of each category\n",
        "\n",
        "3) Restricted the testing data upto the left 30% of each category\n",
        "\n",
        "For more please check the comments in each cell"
      ]
    },
    {
      "cell_type": "markdown",
      "metadata": {
        "id": "R3LcZPiSNLVr",
        "colab_type": "text"
      },
      "source": [
        "### Preprocessing the data, removing duplicates and shuffling:\n"
      ]
    },
    {
      "cell_type": "code",
      "metadata": {
        "id": "4XGk4UAbMHA_",
        "colab_type": "code",
        "outputId": "cd977448-1bf2-4aa8-d0f6-9c033d07c4e9",
        "colab": {
          "base_uri": "https://localhost:8080/",
          "height": 513
        }
      },
      "source": [
        "#Downloading the data and unzipping it\n",
        "!curl -LO https://download.pytorch.org/tutorial/data.zip\n",
        "!unzip data.zip\n",
        "\n",
        "#Importing header files\n",
        "from __future__ import unicode_literals, print_function, division\n",
        "from io import open\n",
        "import glob\n",
        "import os\n",
        "\n",
        "import numpy as np\n",
        "\n",
        "def findFiles(path): return glob.glob(path)\n",
        "\n",
        "#Find all files in this data/name directory with .txt extension\n",
        "print(findFiles('data/names/*.txt'))\n",
        "\n",
        "import unicodedata\n",
        "import string\n",
        "\n",
        "#Create an all_letters set: all upper case and lower case letter plus . , ; ' characters\n",
        "all_letters = string.ascii_letters + \" .,;'\"\n",
        "n_letters = len(all_letters)\n",
        "\n",
        "#Even though the names are romanized we should change them to ASCII\n",
        "# Turn a Unicode string to plain ASCII\n",
        "def unicodeToAscii(s):\n",
        "    return ''.join(\n",
        "        c for c in unicodedata.normalize('NFD', s)\n",
        "        if unicodedata.category(c) != 'Mn'\n",
        "        and c in all_letters\n",
        "    )\n",
        "\n",
        "# Example of Unicode Characters converted to ASCII\n",
        "print(unicodeToAscii('Ślusàrski'))\n",
        "\n",
        "\n",
        "# Build the category_lines dictionary, a list of names per language\n",
        "category_lines = {}  #the names/lines in each category (this is a dictionary (like a hashmap, you give it the category name it returns its names))\n",
        "all_categories = []  #the 18 categories\n",
        "\n",
        "# Read a file and split into lines\n",
        "# this function returns all the lines/names under a specific category\n",
        "def readLines(filename):\n",
        "    lines = open(filename, encoding='utf-8').read().strip().split('\\n') #split on new line token\n",
        "    return [unicodeToAscii(line) for line in lines]\n",
        "\n",
        "\n",
        "# Append the categories to all_categories and the lines to category lines\n",
        "for filename in findFiles('data/names/*.txt'):\n",
        "    category = os.path.splitext(os.path.basename(filename))[0] #category is equal to the file name\n",
        "    all_categories.append(category) #add the category to all categories\n",
        "    lines = readLines(filename) #add the names (lines)\n",
        "\n",
        "    lines=list(set(lines)) # remove duplicates\n",
        "    np.random.shuffle(lines) # shuffle indices\n",
        "\n",
        "    category_lines[category] = lines #add the lines to the dictionary\n",
        "\n",
        "n_categories = len(all_categories) # 18 categories\n",
        "\n",
        "#Example Names\n",
        "print(category_lines['Korean'][:5])\n",
        "#All Categories\n",
        "print(all_categories)"
      ],
      "execution_count": 80,
      "outputs": [
        {
          "output_type": "stream",
          "text": [
            "  % Total    % Received % Xferd  Average Speed   Time    Time     Time  Current\n",
            "                                 Dload  Upload   Total   Spent    Left  Speed\n",
            "\r  0     0    0     0    0     0      0      0 --:--:-- --:--:-- --:--:--     0\r100 2814k  100 2814k    0     0  17.0M      0 --:--:-- --:--:-- --:--:-- 17.0M\n",
            "Archive:  data.zip\n",
            "replace data/eng-fra.txt? [y]es, [n]o, [A]ll, [N]one, [r]ename: A\n",
            "  inflating: data/eng-fra.txt        \n",
            "  inflating: data/names/Arabic.txt   \n",
            "  inflating: data/names/Chinese.txt  \n",
            "  inflating: data/names/Czech.txt    \n",
            "  inflating: data/names/Dutch.txt    \n",
            "  inflating: data/names/English.txt  \n",
            "  inflating: data/names/French.txt   \n",
            "  inflating: data/names/German.txt   \n",
            "  inflating: data/names/Greek.txt    \n",
            "  inflating: data/names/Irish.txt    \n",
            "  inflating: data/names/Italian.txt  \n",
            "  inflating: data/names/Japanese.txt  \n",
            "  inflating: data/names/Korean.txt   \n",
            "  inflating: data/names/Polish.txt   \n",
            "  inflating: data/names/Portuguese.txt  \n",
            "  inflating: data/names/Russian.txt  \n",
            "  inflating: data/names/Scottish.txt  \n",
            "  inflating: data/names/Spanish.txt  \n",
            "  inflating: data/names/Vietnamese.txt  \n",
            "['data/names/Chinese.txt', 'data/names/Italian.txt', 'data/names/Korean.txt', 'data/names/Spanish.txt', 'data/names/Scottish.txt', 'data/names/Polish.txt', 'data/names/Portuguese.txt', 'data/names/Arabic.txt', 'data/names/Russian.txt', 'data/names/Greek.txt', 'data/names/Japanese.txt', 'data/names/Irish.txt', 'data/names/Czech.txt', 'data/names/English.txt', 'data/names/Vietnamese.txt', 'data/names/German.txt', 'data/names/Dutch.txt', 'data/names/French.txt']\n",
            "Slusarski\n",
            "['Ku', 'Suk', 'Jung ', 'Song', 'Kim']\n",
            "['Chinese', 'Italian', 'Korean', 'Spanish', 'Scottish', 'Polish', 'Portuguese', 'Arabic', 'Russian', 'Greek', 'Japanese', 'Irish', 'Czech', 'English', 'Vietnamese', 'German', 'Dutch', 'French']\n"
          ],
          "name": "stdout"
        }
      ]
    },
    {
      "cell_type": "markdown",
      "metadata": {
        "id": "hiKql8qqSx8w",
        "colab_type": "text"
      },
      "source": [
        "### Changing the data to one-hot vectors:"
      ]
    },
    {
      "cell_type": "code",
      "metadata": {
        "id": "Wx9S8vC8NExt",
        "colab_type": "code",
        "outputId": "f8c1b181-78ab-487f-9c88-e10f5d0ef7ec",
        "colab": {
          "base_uri": "https://localhost:8080/",
          "height": 510
        }
      },
      "source": [
        "import torch\n",
        "\n",
        "#Note: the length of each vector = num of total unique letter (for example 26 english letters) and we set them to zero except that letter to 1\n",
        "\n",
        "# Find letter index from all_letters, e.g. \"a\" = 0 , this index is the index of the hot vector to be set as one\n",
        "def letterToIndex(letter):\n",
        "    return all_letters.find(letter)\n",
        "\n",
        "# Turn a letter into a <1 x n_letters> Tensor -> the hot_vector\n",
        "def letterToTensor(letter):\n",
        "    tensor = torch.zeros(1, n_letters)\n",
        "    tensor[0][letterToIndex(letter)] = 1\n",
        "    return tensor\n",
        "\n",
        "# Turn a line into a <line_length x 1 x n_letters>,\n",
        "# or an array of one-hot letter vectors  (each line /name -> converted to a 2d array of hot vectors)\n",
        "def lineToTensor(line):\n",
        "    tensor = torch.zeros(len(line), 1, n_letters)\n",
        "    for li, letter in enumerate(line):\n",
        "        tensor[li][0][letterToIndex(letter)] = 1\n",
        "    return tensor\n",
        "\n",
        "# Test the previous functions:\n",
        "print(letterToTensor('J')) # one simple hot vector\n",
        "print(lineToTensor('Jones').shape) # length_of_word(sequence) X 1 X 57  -> the \"1\" is not important just think of it as a 2d matrix where the rows are the letters (hot vector)\n",
        "print(lineToTensor('Jones')) #one hot vector for J, one for O, one for N, one for E, one for S"
      ],
      "execution_count": 81,
      "outputs": [
        {
          "output_type": "stream",
          "text": [
            "tensor([[0., 0., 0., 0., 0., 0., 0., 0., 0., 0., 0., 0., 0., 0., 0., 0., 0., 0.,\n",
            "         0., 0., 0., 0., 0., 0., 0., 0., 0., 0., 0., 0., 0., 0., 0., 0., 0., 1.,\n",
            "         0., 0., 0., 0., 0., 0., 0., 0., 0., 0., 0., 0., 0., 0., 0., 0., 0., 0.,\n",
            "         0., 0., 0.]])\n",
            "torch.Size([5, 1, 57])\n",
            "tensor([[[0., 0., 0., 0., 0., 0., 0., 0., 0., 0., 0., 0., 0., 0., 0., 0., 0.,\n",
            "          0., 0., 0., 0., 0., 0., 0., 0., 0., 0., 0., 0., 0., 0., 0., 0., 0.,\n",
            "          0., 1., 0., 0., 0., 0., 0., 0., 0., 0., 0., 0., 0., 0., 0., 0., 0.,\n",
            "          0., 0., 0., 0., 0., 0.]],\n",
            "\n",
            "        [[0., 0., 0., 0., 0., 0., 0., 0., 0., 0., 0., 0., 0., 0., 1., 0., 0.,\n",
            "          0., 0., 0., 0., 0., 0., 0., 0., 0., 0., 0., 0., 0., 0., 0., 0., 0.,\n",
            "          0., 0., 0., 0., 0., 0., 0., 0., 0., 0., 0., 0., 0., 0., 0., 0., 0.,\n",
            "          0., 0., 0., 0., 0., 0.]],\n",
            "\n",
            "        [[0., 0., 0., 0., 0., 0., 0., 0., 0., 0., 0., 0., 0., 1., 0., 0., 0.,\n",
            "          0., 0., 0., 0., 0., 0., 0., 0., 0., 0., 0., 0., 0., 0., 0., 0., 0.,\n",
            "          0., 0., 0., 0., 0., 0., 0., 0., 0., 0., 0., 0., 0., 0., 0., 0., 0.,\n",
            "          0., 0., 0., 0., 0., 0.]],\n",
            "\n",
            "        [[0., 0., 0., 0., 1., 0., 0., 0., 0., 0., 0., 0., 0., 0., 0., 0., 0.,\n",
            "          0., 0., 0., 0., 0., 0., 0., 0., 0., 0., 0., 0., 0., 0., 0., 0., 0.,\n",
            "          0., 0., 0., 0., 0., 0., 0., 0., 0., 0., 0., 0., 0., 0., 0., 0., 0.,\n",
            "          0., 0., 0., 0., 0., 0.]],\n",
            "\n",
            "        [[0., 0., 0., 0., 0., 0., 0., 0., 0., 0., 0., 0., 0., 0., 0., 0., 0.,\n",
            "          0., 1., 0., 0., 0., 0., 0., 0., 0., 0., 0., 0., 0., 0., 0., 0., 0.,\n",
            "          0., 0., 0., 0., 0., 0., 0., 0., 0., 0., 0., 0., 0., 0., 0., 0., 0.,\n",
            "          0., 0., 0., 0., 0., 0.]]])\n"
          ],
          "name": "stdout"
        }
      ]
    },
    {
      "cell_type": "markdown",
      "metadata": {
        "id": "_CpYwfTNccB2",
        "colab_type": "text"
      },
      "source": [
        "### Defining the Model/LSTM:"
      ]
    },
    {
      "cell_type": "code",
      "metadata": {
        "id": "lD-buUmTTRHb",
        "colab_type": "code",
        "colab": {}
      },
      "source": [
        "batch_size = 1\n",
        "num_layers = 1\n",
        "input_size = n_letters #size of the hot vector (remember we are just giving a single hot vector/single character to the network)\n",
        "hidden_size = 128      #the output size of lstm (our choice)\n",
        "output_size=n_categories #18 categories (final classification classes)\n",
        "seq_length = 1 #we are using LSTM as an LSTM cell which takes a single character\n",
        "\n",
        "import torch.nn as nn\n",
        "  #we pass one character by one character and the input should be the size of batch*sequence*input_size(number_features)\n",
        "  #note: seqeucne is the number of the letters that the input is depending on for example in HELLO ... the sequence is of size 5\n",
        "class Model(nn.Module):\n",
        "  def __init__(self):\n",
        "      super(Model, self).__init__() \n",
        "\n",
        "      # LSTM Layer: It outputs the hidden state (here the layer is more like a cell)\n",
        "      # Remember:\n",
        "        # input_size: is a single character represented by the hot vector size\n",
        "        # hidden_size: is our choice it is just an intermediate LSTM/RNN output size\n",
        "\n",
        "      # The input should be of shape (seq_len, batch_size, input_size)\n",
        "      # output1: outputs of shape (seq_len, batch, num_directions * hidden_size)\n",
        "      # output2: h_n of shape (num_layers * num_directions, batch, hidden_size)\n",
        "      # output3: c_n of shape (num_layers * num_directions, batch, hidden_size)\n",
        "      self.lstm = nn.LSTM(input_size, hidden_size)\n",
        "        \n",
        "\n",
        "      # Fully connected layer: takes the hidden state and outputs a vector of size \"output_size\"\n",
        "      # here the output is categories\n",
        "      self.fc = nn.Linear(hidden_size, output_size)\n",
        "\n",
        "  def forward(self,x,hidden,hidden2):\n",
        "    \n",
        "    x= x.view(seq_length, batch_size, input_size) #sequence, batch, size\n",
        "        \n",
        "    out, (h_n, c_n) = self.lstm(x, (hidden,hidden2))\n",
        "        \n",
        "    \n",
        "    out=out.permute(1,0,2) # fully connected has always batch as the first dimension so flip \n",
        "    out = self.fc(out.view(batch_size,-1))\n",
        "    out=  nn.functional.log_softmax(out,dim=1)\n",
        "        \n",
        "    return out, (h_n,c_n)\n",
        "\n",
        "  # a function for initializing the h_n, c_n\n",
        "  def initHidden(self):\n",
        "    return torch.zeros(num_layers,batch_size, hidden_size)"
      ],
      "execution_count": 0,
      "outputs": []
    },
    {
      "cell_type": "markdown",
      "metadata": {
        "id": "XpV9AMbaey7H",
        "colab_type": "text"
      },
      "source": [
        "### Driver Code:"
      ]
    },
    {
      "cell_type": "code",
      "metadata": {
        "id": "iHC7F3pbezkb",
        "colab_type": "code",
        "outputId": "f1478581-6aca-4915-9084-653211762b1a",
        "colab": {
          "base_uri": "https://localhost:8080/",
          "height": 119
        }
      },
      "source": [
        "lstm = Model() #model loading\n",
        "\n",
        "input = letterToTensor('B')\n",
        "hidden =lstm.initHidden()   #h_n\n",
        "hidden2 =lstm.initHidden()  #c_n\n",
        "output, (h_n,c_n) = lstm(input, hidden,hidden2)\n",
        "print(output)\n",
        "\n",
        "\n",
        "input = lineToTensor('Albert')\n",
        "hidden =lstm.initHidden()   #h_n\n",
        "hidden2 =lstm.initHidden()  #c_n\n",
        "output,(h_n,c_n) = lstm(input[0], hidden,hidden2)\n",
        "print(output)\n"
      ],
      "execution_count": 89,
      "outputs": [
        {
          "output_type": "stream",
          "text": [
            "tensor([[-2.9273, -2.8207, -2.8889, -2.9785, -2.9435, -2.8980, -2.8954, -2.8967,\n",
            "         -2.8409, -2.8352, -2.8808, -2.9186, -2.8852, -2.9160, -2.8380, -2.8928,\n",
            "         -2.9304, -2.8547]], grad_fn=<LogSoftmaxBackward>)\n",
            "tensor([[-2.9146, -2.8253, -2.8851, -2.9741, -2.9561, -2.9042, -2.9049, -2.9006,\n",
            "         -2.8600, -2.8303, -2.9010, -2.9128, -2.8754, -2.9308, -2.8315, -2.8796,\n",
            "         -2.9155, -2.8402]], grad_fn=<LogSoftmaxBackward>)\n"
          ],
          "name": "stdout"
        }
      ]
    },
    {
      "cell_type": "markdown",
      "metadata": {
        "id": "3DKMwXxL_RNf",
        "colab_type": "text"
      },
      "source": [
        "### Helper Functions + Data split:\n",
        "80% Training - 20% Testing"
      ]
    },
    {
      "cell_type": "code",
      "metadata": {
        "id": "lt-uviahf4xd",
        "colab_type": "code",
        "outputId": "588f704d-8342-41ff-c37e-c7e3d993669b",
        "colab": {
          "base_uri": "https://localhost:8080/",
          "height": 204
        }
      },
      "source": [
        "# returns the category and its index based on the model output\n",
        "def categoryFromOutput(output):\n",
        "    top_n, top_i = output.topk(1)  #get the index of the greatest value\n",
        "    category_i = top_i[0].item()\n",
        "    return all_categories[category_i], category_i\n",
        "\n",
        "print(categoryFromOutput(output))\n",
        "\n",
        "import random\n",
        "\n",
        "#a very simple splitting technique\n",
        "trainingMode=1 # if set to 1 the data will be retrieved from the first 80% indices of each category otherwise it will be retrieved from the other 20%\n",
        "\n",
        "# pick a random element from a category: this function is modified to split data\n",
        "def randomChoice(l):\n",
        "  if trainingMode==1: # retrieve an element from the training set\n",
        "    return l[random.randint(0, int(0.8*len(l))-1)]\n",
        "  elif trainingMode==0: # retrieve an element from the testing set\n",
        "    return l[random.randint(int(0.8*len(l)), len(l)-1)]\n",
        "\n",
        "# pick a random category: no split needed\n",
        "def randomChoiceCategory(l):\n",
        "    return l[random.randint(0, len(l) - 1)]\n",
        "\n",
        "# pick a random category and a random name from that category\n",
        "def randomTrainingExample():\n",
        "    category = randomChoiceCategory(all_categories) #choose a random category\n",
        "    line = randomChoice(category_lines[category]) #choose a random name\n",
        "    category_tensor = torch.tensor([all_categories.index(category)], dtype=torch.long) #a tesnor indicating the category index\n",
        "    line_tensor = lineToTensor(line) #change names to tensor / one hot vector array\n",
        "    return category, line, category_tensor, line_tensor\n",
        "\n",
        "\n",
        "# test the upper functions:\n",
        "for i in range(10):\n",
        "    category, line, category_tensor, line_tensor = randomTrainingExample()\n",
        "    print('category =', category, '/ line =', line)"
      ],
      "execution_count": 90,
      "outputs": [
        {
          "output_type": "stream",
          "text": [
            "('Italian', 1)\n",
            "category = Vietnamese / line = To\n",
            "category = Spanish / line = Amador\n",
            "category = Spanish / line = Herrero\n",
            "category = Korean / line = Rhee\n",
            "category = Portuguese / line = Ferreiro\n",
            "category = Italian / line = Durante\n",
            "category = French / line = Guillory\n",
            "category = Japanese / line = Munkata\n",
            "category = Czech / line = Hanzlick\n",
            "category = Arabic / line = Abadi\n"
          ],
          "name": "stdout"
        }
      ]
    },
    {
      "cell_type": "markdown",
      "metadata": {
        "id": "bePRVHgn_z-B",
        "colab_type": "text"
      },
      "source": [
        "### Training Function: "
      ]
    },
    {
      "cell_type": "code",
      "metadata": {
        "id": "AzN3K7rg_cTh",
        "colab_type": "code",
        "colab": {}
      },
      "source": [
        "criterion = nn.NLLLoss()\n",
        "learning_rate = 0.005\n",
        "\n",
        "# This training function is for one name/line\n",
        "def train(category_tensor, line_tensor):\n",
        "\n",
        "    hidden = lstm.initHidden()\n",
        "    hidden2 = lstm.initHidden()\n",
        "    lstm.zero_grad()\n",
        "\n",
        "    # Go through all name letters\n",
        "    for i in range(line_tensor.size()[0]):\n",
        "        output, (hidden,hidden2) = lstm(line_tensor[i], hidden,hidden2)\n",
        "\n",
        "    # Calculate the loss and apply it backwards\n",
        "    loss = criterion(output, category_tensor)\n",
        "    loss.backward()\n",
        "\n",
        "    # Add parameters' gradients to their values, multiplied by learning rate\n",
        "    # This is for weight updates (similar to optimizer.step()) # backpropagation\n",
        "    for p in lstm.parameters():\n",
        "        p.data.add_(p.grad.data, alpha=-learning_rate)\n",
        "\n",
        "    return output, loss.item()"
      ],
      "execution_count": 0,
      "outputs": []
    },
    {
      "cell_type": "markdown",
      "metadata": {
        "id": "hcjv0Rwl_0yL",
        "colab_type": "text"
      },
      "source": [
        "### Training Function Driver:"
      ]
    },
    {
      "cell_type": "code",
      "metadata": {
        "id": "qxqum_yrAByl",
        "colab_type": "code",
        "outputId": "4a4af326-feb1-46b5-98dc-9d83dc1047a1",
        "colab": {
          "base_uri": "https://localhost:8080/",
          "height": 544
        }
      },
      "source": [
        "import time\n",
        "import math\n",
        "\n",
        "n_iters = 150000\n",
        "print_every = 5000\n",
        "plot_every = 1000\n",
        "\n",
        "trainingMode=1\n",
        "if trainingMode==1:\n",
        "  print(\"Using Training Set (80%) of all data\")\n",
        "else:\n",
        "  print(\"Using Testing Set (20%) of all data\")\n",
        "\n",
        "# Keep track of losses for plotting\n",
        "current_loss = 0\n",
        "all_losses = []\n",
        "\n",
        "def timeSince(since):\n",
        "    now = time.time()\n",
        "    s = now - since\n",
        "    m = math.floor(s / 60)\n",
        "    s -= m * 60\n",
        "    return '%dm %ds' % (m, s)\n",
        "\n",
        "start = time.time() # start the clock\n",
        "\n",
        "for iter in range(1, n_iters + 1):\n",
        "    category, line, category_tensor, line_tensor = randomTrainingExample() # Get a random example (name)\n",
        "\n",
        "    output, loss = train(category_tensor, line_tensor) # train for one name\n",
        "    current_loss += loss\n",
        "\n",
        "    # Print iter number, loss, name and guess\n",
        "    if iter % print_every == 0:\n",
        "        guess, guess_i = categoryFromOutput(output)\n",
        "        correct = '✓' if guess == category else '✗ (%s)' % category\n",
        "        print('%d %d%% (%s) %.4f %s / %s %s' % (iter, iter / n_iters * 100, timeSince(start), loss, line, guess, correct))\n",
        "\n",
        "    # Add current loss avg to list of losses\n",
        "    if iter % plot_every == 0:\n",
        "        all_losses.append(current_loss / plot_every) # the average loss per 1000 iter\n",
        "        current_loss = 0\n"
      ],
      "execution_count": 104,
      "outputs": [
        {
          "output_type": "stream",
          "text": [
            "Using Training Set (80%) of all data\n",
            "5000 3% (0m 23s) 0.1048 Cathan / Irish ✓\n",
            "10000 6% (0m 46s) 3.8127 Leitzke / Polish ✗ (German)\n",
            "15000 10% (1m 10s) 0.6130 Xuan / Chinese ✓\n",
            "20000 13% (1m 33s) 3.5047 Maas / Arabic ✗ (Dutch)\n",
            "25000 16% (1m 57s) 1.0386 Ritchie / Scottish ✓\n",
            "30000 20% (2m 20s) 3.3700 Maas / Arabic ✗ (Dutch)\n",
            "35000 23% (2m 43s) 0.5146 Magalhaes / Portuguese ✓\n",
            "40000 26% (3m 7s) 1.8671 Del bosque / French ✗ (Spanish)\n",
            "45000 30% (3m 30s) 0.9220 Levesque / French ✓\n",
            "50000 33% (3m 53s) 1.0955 Quan / Vietnamese ✗ (Chinese)\n",
            "55000 36% (4m 17s) 2.5278 Oberto / Spanish ✗ (Italian)\n",
            "60000 40% (4m 40s) 0.4921 Klerken / Dutch ✓\n",
            "65000 43% (5m 3s) 2.2141 Graham / Arabic ✗ (Scottish)\n",
            "70000 46% (5m 27s) 0.3659 Kalb / Arabic ✓\n",
            "75000 50% (5m 50s) 3.3040 Mas / Portuguese ✗ (Dutch)\n",
            "80000 53% (6m 13s) 0.0399 Kyritsis / Greek ✓\n",
            "85000 56% (6m 37s) 1.8855 Sleiman / Irish ✗ (Arabic)\n",
            "90000 60% (7m 1s) 0.3065 Luong / Vietnamese ✓\n",
            "95000 63% (7m 24s) 0.1474 Hodoval / Czech ✓\n",
            "100000 66% (7m 48s) 2.4045 Meinhardt / Irish ✗ (German)\n",
            "105000 70% (8m 11s) 1.1082 Aart / Dutch ✓\n",
            "110000 73% (8m 35s) 0.0357 Ramaker / Dutch ✓\n",
            "115000 76% (8m 59s) 0.4942 Yep / Chinese ✓\n",
            "120000 80% (9m 22s) 0.2669 Kurogane / Japanese ✓\n",
            "125000 83% (9m 45s) 0.1048 Kyritsis / Greek ✓\n",
            "130000 86% (10m 8s) 0.0415 Drivakis / Greek ✓\n",
            "135000 90% (10m 32s) 0.3812 Siew / Chinese ✓\n",
            "140000 93% (10m 55s) 0.1764 Slootmaekers / Dutch ✓\n",
            "145000 96% (11m 18s) 0.1346 Vela / Spanish ✓\n",
            "150000 100% (11m 41s) 0.0297 Chlebek / Polish ✓\n"
          ],
          "name": "stdout"
        }
      ]
    },
    {
      "cell_type": "markdown",
      "metadata": {
        "id": "6pcFTtfUBrSv",
        "colab_type": "text"
      },
      "source": [
        "### Plot the training average loss per 1000 iterations:"
      ]
    },
    {
      "cell_type": "code",
      "metadata": {
        "id": "IoqOiQaZWxUK",
        "colab_type": "code",
        "outputId": "ebf2fbb0-db9b-4a75-b233-17a803d74ff5",
        "colab": {
          "base_uri": "https://localhost:8080/",
          "height": 282
        }
      },
      "source": [
        "import matplotlib.pyplot as plt\n",
        "import matplotlib.ticker as ticker\n",
        "\n",
        "plt.figure()\n",
        "plt.plot(all_losses)"
      ],
      "execution_count": 105,
      "outputs": [
        {
          "output_type": "execute_result",
          "data": {
            "text/plain": [
              "[<matplotlib.lines.Line2D at 0x7f145a654438>]"
            ]
          },
          "metadata": {
            "tags": []
          },
          "execution_count": 105
        },
        {
          "output_type": "display_data",
          "data": {
            "image/png": "[encoded data removed]",
            "text/plain": [
              "<Figure size 432x288 with 1 Axes>"
            ]
          },
          "metadata": {
            "tags": [],
            "needs_background": "light"
          }
        }
      ]
    },
    {
      "cell_type": "markdown",
      "metadata": {
        "id": "nEHZP3F3KDsi",
        "colab_type": "text"
      },
      "source": [
        "### Testing the model / Confusion matrix generation:\n",
        "Evaluation is done on a new unused testing set"
      ]
    },
    {
      "cell_type": "code",
      "metadata": {
        "id": "kRIINLWpio1A",
        "colab_type": "code",
        "outputId": "f9b70ca7-3a39-4ac2-ea5e-8a3c610a2253",
        "colab": {
          "base_uri": "https://localhost:8080/",
          "height": 337
        }
      },
      "source": [
        "# Confusion Matrix: Rows are Categories | Columns are Guesses (this will show what are the guesses for each category)\n",
        "\n",
        "# 18 by 18 zero initiialztion matrix\n",
        "confusion = torch.zeros(n_categories, n_categories)\n",
        "n_confusion = 10000\n",
        "\n",
        "trainingMode=0 # choose data from the testing set\n",
        "if trainingMode==1:\n",
        "  print(\"Using Training Set (80%) of all data\")\n",
        "else:\n",
        "  print(\"Using Testing Set (20%) of all data\")\n",
        "\n",
        "# Just evaluate without backpropagation\n",
        "def evaluate(line_tensor):\n",
        "    hidden = lstm.initHidden()\n",
        "    hidden2 = lstm.initHidden()\n",
        "\n",
        "    for i in range(line_tensor.size()[0]):\n",
        "        output, (hidden,hidden2) = lstm(line_tensor[i], hidden,hidden2)\n",
        "\n",
        "    return output\n",
        "\n",
        "# Go through 10000 examples and record the result in the matrix\n",
        "for i in range(n_confusion):\n",
        "    category, line, category_tensor, line_tensor = randomTrainingExample()\n",
        "    output = evaluate(line_tensor)\n",
        "    guess, guess_i = categoryFromOutput(output)\n",
        "    category_i = all_categories.index(category)\n",
        "    confusion[category_i][guess_i] += 1\n",
        "\n",
        "# Normalize by dividing every row by its sum\n",
        "for i in range(n_categories):\n",
        "    confusion[i] = confusion[i] / confusion[i].sum()\n",
        "\n",
        "# Set up plot\n",
        "fig = plt.figure()\n",
        "ax = fig.add_subplot(111)\n",
        "cax = ax.matshow(confusion.numpy())\n",
        "fig.colorbar(cax)\n",
        "\n",
        "# Set up axes\n",
        "ax.set_xticklabels([''] + all_categories, rotation=90)\n",
        "ax.set_yticklabels([''] + all_categories)\n",
        "\n",
        "# Force label at every tick\n",
        "ax.xaxis.set_major_locator(ticker.MultipleLocator(1))\n",
        "ax.yaxis.set_major_locator(ticker.MultipleLocator(1))\n",
        "\n",
        "# sphinx_gallery_thumbnail_number = 2\n",
        "plt.show()"
      ],
      "execution_count": 106,
      "outputs": [
        {
          "output_type": "stream",
          "text": [
            "Using Testing Set (20%) of all data\n"
          ],
          "name": "stdout"
        },
        {
          "output_type": "display_data",
          "data": {
            "image/png": "[encoded data removed]",
            "text/plain": [
              "<Figure size 432x288 with 2 Axes>"
            ]
          },
          "metadata": {
            "tags": [],
            "needs_background": "light"
          }
        }
      ]
    },
    {
      "cell_type": "markdown",
      "metadata": {
        "id": "GQFpd3roSDvO",
        "colab_type": "text"
      },
      "source": [
        "### Testing Accuracy:\n",
        "Evaluation is done on a new unused testing set"
      ]
    },
    {
      "cell_type": "code",
      "metadata": {
        "id": "ztcK5vKAjCjm",
        "colab_type": "code",
        "outputId": "50c1fe90-5801-476f-f541-bafa49bbfa7c",
        "colab": {
          "base_uri": "https://localhost:8080/",
          "height": 51
        }
      },
      "source": [
        "# Driver code for the testing accuracy calculation:\n",
        "trainingMode=0 # choose data from the testing set\n",
        "\n",
        "if trainingMode==1:\n",
        "  print(\"Using Training Set (80%) of all data\")\n",
        "else:\n",
        "  print(\"Using Testing Set (20%) of all data\")\n",
        "\n",
        "\n",
        "iterations= 10000\n",
        "correct_test=0\n",
        "total_test=0\n",
        "\n",
        "for i in range(iterations):\n",
        "  category, line, category_tensor, line_tensor = randomTrainingExample() #get a sample\n",
        "\n",
        "  with torch.no_grad():\n",
        "    output = evaluate(line_tensor) #evaluate\n",
        "  guess, guess_i = categoryFromOutput(output)\n",
        "\n",
        "  if guess == category:\n",
        "    correct_test+=1\n",
        "  total_test+=1\n",
        "\n",
        "print(correct_test/total_test)"
      ],
      "execution_count": 110,
      "outputs": [
        {
          "output_type": "stream",
          "text": [
            "Using Testing Set (20%) of all data\n",
            "0.5162\n"
          ],
          "name": "stdout"
        }
      ]
    },
    {
      "cell_type": "markdown",
      "metadata": {
        "id": "pvQsxCjFyprY",
        "colab_type": "text"
      },
      "source": [
        "### User Input Prediction:"
      ]
    },
    {
      "cell_type": "code",
      "metadata": {
        "id": "6evJ8r_QxRoJ",
        "colab_type": "code",
        "colab": {
          "base_uri": "https://localhost:8080/",
          "height": 272
        },
        "outputId": "e5fb8a48-2003-40e1-eb69-a95ef405a2a0"
      },
      "source": [
        "def predict(input_line, n_predictions=3):\n",
        "    print('\\n> %s' % input_line)\n",
        "    with torch.no_grad():\n",
        "        output = evaluate(lineToTensor(input_line))\n",
        "\n",
        "        # Get top N categories\n",
        "        topv, topi = output.topk(n_predictions, 1, True)\n",
        "        predictions = []\n",
        "\n",
        "        for i in range(n_predictions):\n",
        "            value = topv[0][i].item()\n",
        "            category_index = topi[0][i].item()\n",
        "            print('(%.2f) %s' % (value, all_categories[category_index]))\n",
        "            predictions.append([value, all_categories[category_index]])\n",
        "\n",
        "predict('Yazan')\n",
        "predict('Laith')\n",
        "predict('Dahab')"
      ],
      "execution_count": 111,
      "outputs": [
        {
          "output_type": "stream",
          "text": [
            "\n",
            "> Yazan\n",
            "(-0.45) Arabic\n",
            "(-1.53) Polish\n",
            "(-3.06) Japanese\n",
            "\n",
            "> Laith\n",
            "(-1.02) Irish\n",
            "(-1.51) English\n",
            "(-1.71) Czech\n",
            "\n",
            "> Dahab\n",
            "(-0.00) Arabic\n",
            "(-6.52) German\n",
            "(-6.70) Russian\n"
          ],
          "name": "stdout"
        }
      ]
    },
    {
      "cell_type": "code",
      "metadata": {
        "id": "_y6nskxhzCEc",
        "colab_type": "code",
        "colab": {}
      },
      "source": [
        ""
      ],
      "execution_count": 0,
      "outputs": []
    }
  ]
}