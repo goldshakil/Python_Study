{
  "nbformat": 4,
  "nbformat_minor": 0,
  "metadata": {
    "colab": {
      "name": "Homework11-2017314461-Muhammad.ipynb",
      "provenance": [],
      "collapsed_sections": []
    },
    "kernelspec": {
      "name": "python3",
      "display_name": "Python 3"
    }
  },
  "cells": [
    {
      "cell_type": "markdown",
      "metadata": {
        "id": "PpDHSZf1JWcz",
        "colab_type": "text"
      },
      "source": [
        "## 2017314461 Muhammad Shakeel Zuhaib\n",
        "Homework 11 (AI Porject)\n",
        "\n",
        "NLP using character level LSTM + Packed Sequence"
      ]
    },
    {
      "cell_type": "markdown",
      "metadata": {
        "id": "4mREu6XM6IT_",
        "colab_type": "text"
      },
      "source": [
        "### Differences to Pytorch tutorial:\n",
        "1) Removed duplicates from the dataset so that training and testing/evaluation have unique data.\n",
        "\n",
        "2) Restricted the training data upto 80% of each category\n",
        "\n",
        "3) Restricted the testing data upto the left 20% of each category\n",
        "\n",
        "4) Used batches of size (8) and packed sequence modeling\n",
        "\n",
        "For more please check the comments in each cell"
      ]
    },
    {
      "cell_type": "markdown",
      "metadata": {
        "id": "R3LcZPiSNLVr",
        "colab_type": "text"
      },
      "source": [
        "### Preprocessing the data, removing duplicates and shuffling:\n"
      ]
    },
    {
      "cell_type": "code",
      "metadata": {
        "id": "4XGk4UAbMHA_",
        "colab_type": "code",
        "outputId": "aaa7df47-7190-4745-e7f4-80363dfb77e1",
        "colab": {
          "base_uri": "https://localhost:8080/",
          "height": 530
        }
      },
      "source": [
        "#Downloading the data and unzipping it\n",
        "!curl -LO https://download.pytorch.org/tutorial/data.zip\n",
        "!unzip data.zip\n",
        "\n",
        "#Importing header files\n",
        "from __future__ import unicode_literals, print_function, division\n",
        "from io import open\n",
        "import glob\n",
        "import os\n",
        "\n",
        "import torch\n",
        "from torch.nn.utils.rnn import pad_sequence, pack_sequence, pack_padded_sequence, pad_packed_sequence\n",
        "\n",
        "import numpy as np\n",
        "\n",
        "def findFiles(path): return glob.glob(path)\n",
        "\n",
        "#Find all files in this data/name directory with .txt extension\n",
        "print(findFiles('data/names/*.txt'))\n",
        "\n",
        "import unicodedata\n",
        "import string\n",
        "\n",
        "#Create an all_letters set: all upper case and lower case letter plus . , ; ' characters\n",
        "all_letters = string.ascii_letters + \" .,;'\"\n",
        "n_letters = len(all_letters)\n",
        "\n",
        "#Even though the names are romanized we should change them to ASCII\n",
        "# Turn a Unicode string to plain ASCII\n",
        "def unicodeToAscii(s):\n",
        "    return ''.join(\n",
        "        c for c in unicodedata.normalize('NFD', s)\n",
        "        if unicodedata.category(c) != 'Mn'\n",
        "        and c in all_letters\n",
        "    )\n",
        "\n",
        "# Example of Unicode Characters converted to ASCII\n",
        "print(unicodeToAscii('Ślusàrski'))\n",
        "\n",
        "\n",
        "# Build the category_lines dictionary, a list of names per language\n",
        "category_lines = {}  #the names/lines in each category (this is a dictionary (like a hashmap, you give it the category name it returns its names))\n",
        "all_categories = []  #the 18 categories\n",
        "\n",
        "# Read a file and split into lines\n",
        "# this function returns all the lines/names under a specific category\n",
        "def readLines(filename):\n",
        "    lines = open(filename, encoding='utf-8').read().strip().split('\\n') #split on new line token\n",
        "    return [unicodeToAscii(line) for line in lines]\n",
        "\n",
        "\n",
        "# Append the categories to all_categories and the lines to category lines\n",
        "for filename in findFiles('data/names/*.txt'):\n",
        "    category = os.path.splitext(os.path.basename(filename))[0] #category is equal to the file name\n",
        "    all_categories.append(category) #add the category to all categories\n",
        "    lines = readLines(filename) #add the names (lines)\n",
        "\n",
        "    lines=list(set(lines)) # remove duplicates\n",
        "    np.random.shuffle(lines) # shuffle indices\n",
        "\n",
        "    category_lines[category] = lines #add the lines to the dictionary\n",
        "\n",
        "n_categories = len(all_categories) # 18 categories\n",
        "\n",
        "\n",
        "# remember that category_linex['CATEGORY'] -> includes all the names for 'CATEGORY' \n",
        "\n",
        "#Example Names\n",
        "print(category_lines['Arabic'][:5])\n",
        "#All Categories\n",
        "print(all_categories)"
      ],
      "execution_count": 1,
      "outputs": [
        {
          "output_type": "stream",
          "text": [
            "  % Total    % Received % Xferd  Average Speed   Time    Time     Time  Current\n",
            "                                 Dload  Upload   Total   Spent    Left  Speed\n",
            "100 2814k  100 2814k    0     0  4404k      0 --:--:-- --:--:-- --:--:-- 4404k\n",
            "Archive:  data.zip\n",
            "   creating: data/\n",
            "  inflating: data/eng-fra.txt        \n",
            "   creating: data/names/\n",
            "  inflating: data/names/Arabic.txt   \n",
            "  inflating: data/names/Chinese.txt  \n",
            "  inflating: data/names/Czech.txt    \n",
            "  inflating: data/names/Dutch.txt    \n",
            "  inflating: data/names/English.txt  \n",
            "  inflating: data/names/French.txt   \n",
            "  inflating: data/names/German.txt   \n",
            "  inflating: data/names/Greek.txt    \n",
            "  inflating: data/names/Irish.txt    \n",
            "  inflating: data/names/Italian.txt  \n",
            "  inflating: data/names/Japanese.txt  \n",
            "  inflating: data/names/Korean.txt   \n",
            "  inflating: data/names/Polish.txt   \n",
            "  inflating: data/names/Portuguese.txt  \n",
            "  inflating: data/names/Russian.txt  \n",
            "  inflating: data/names/Scottish.txt  \n",
            "  inflating: data/names/Spanish.txt  \n",
            "  inflating: data/names/Vietnamese.txt  \n",
            "['data/names/English.txt', 'data/names/Portuguese.txt', 'data/names/German.txt', 'data/names/Vietnamese.txt', 'data/names/Czech.txt', 'data/names/Chinese.txt', 'data/names/Arabic.txt', 'data/names/Italian.txt', 'data/names/Korean.txt', 'data/names/Spanish.txt', 'data/names/Irish.txt', 'data/names/Japanese.txt', 'data/names/Scottish.txt', 'data/names/French.txt', 'data/names/Russian.txt', 'data/names/Greek.txt', 'data/names/Polish.txt', 'data/names/Dutch.txt']\n",
            "Slusarski\n",
            "['Handal', 'Assaf', 'Ganim', 'Nassar', 'Awad']\n",
            "['English', 'Portuguese', 'German', 'Vietnamese', 'Czech', 'Chinese', 'Arabic', 'Italian', 'Korean', 'Spanish', 'Irish', 'Japanese', 'Scottish', 'French', 'Russian', 'Greek', 'Polish', 'Dutch']\n"
          ],
          "name": "stdout"
        }
      ]
    },
    {
      "cell_type": "markdown",
      "metadata": {
        "id": "_CpYwfTNccB2",
        "colab_type": "text"
      },
      "source": [
        "### Defining the Model/LSTM:\n",
        "\n",
        "packing is applied here"
      ]
    },
    {
      "cell_type": "code",
      "metadata": {
        "id": "lD-buUmTTRHb",
        "colab_type": "code",
        "colab": {}
      },
      "source": [
        "batch_size = 8\n",
        "num_layers = 1\n",
        "input_size = 128 #there are 128 letter in the ASCII \n",
        "hidden_size = 128      #the output size of lstm (our choice)\n",
        "output_size=n_categories #18 categories (final classification classes)\n",
        "\n",
        "\n",
        "import torch.nn as nn\n",
        "  #we pass one character by one character and the input should be the size of batch*sequence*input_size(number_features)\n",
        "  #note: seqeucne is the number of the letters that the input is depending on for example in HELLO ... the sequence is of size 5\n",
        "class Model(nn.Module):\n",
        "  def __init__(self):\n",
        "      super(Model, self).__init__() \n",
        "\n",
        "      # A look up table for embeddings\n",
        "      self.embedding=nn.Embedding(input_size,hidden_size)\n",
        "\n",
        "\n",
        "      # LSTM Layer: It outputs the hidden state (here the layer is more like a cell)\n",
        "      # Remember:\n",
        "        # input_size: is a single character represented by the hot vector size\n",
        "        # hidden_size: is our choice it is just an intermediate LSTM/RNN output size\n",
        "      # The input should be of shape (seq_len, batch_size, input_size)\n",
        "      # output1: outputs of shape (seq_len, batch, num_directions * hidden_size)\n",
        "      # output2: h_n of shape (num_layers * num_directions, batch, hidden_size)\n",
        "      # output3: c_n of shape (num_layers * num_directions, batch, hidden_size)\n",
        "\n",
        "      self.lstm = nn.LSTM(hidden_size, hidden_size)\n",
        "        \n",
        "\n",
        "      # Fully connected layer: takes the hidden state and outputs a vector of size \"output_size\"\n",
        "      # here the output is categories\n",
        "      self.fc = nn.Linear(hidden_size, output_size)\n",
        "\n",
        "  def forward(self,x,lengths):\n",
        "\n",
        "    # input -> embed -> pack -> LSTM -> unpack -> FC\n",
        "\n",
        "    batches=x.size(0) #input: Batches* Sequence\n",
        "\n",
        "    x=x.permute(1,0)  #input: Batches* Sequence -> output: Sequence* Batches\n",
        "\n",
        "    embedded=self.embedding(x) #input : sequence*batches -> output:  sequence*batches*embedding size\n",
        "\n",
        "    packed_input = pack_padded_sequence(embedded, lengths)\n",
        "\n",
        "    hidden1=self.initHidden(batches) #hidden shape: num_layers * num_directions, batch, hidden_size)\n",
        "    hidden2=self.initHidden(batches)\n",
        "\n",
        "    out, (h_n, c_n) = self.lstm(packed_input, (hidden1,hidden2)) # out shape: (seq_len, batch, num_directions * hidden_size)\n",
        "\n",
        "    #lstm_out, _ = pad_packed_sequence(packed_output)  -> no need for unpacking we can use the hidden state simpler\n",
        "    #print(out.data.shape)\n",
        "    h_n=h_n.permute(1,0,2)\n",
        "    out = self.fc(h_n.view(batches,-1)) #easier than using out\n",
        "    out=  nn.functional.log_softmax(out,dim=1)\n",
        "\n",
        "    return out\n",
        "\n",
        "  # a function for initializing the h_n, c_n\n",
        "  def initHidden(self,batches):\n",
        "    return torch.zeros(num_layers,batches, hidden_size)"
      ],
      "execution_count": 0,
      "outputs": []
    },
    {
      "cell_type": "markdown",
      "metadata": {
        "id": "OLrAd2siRlG9",
        "colab_type": "text"
      },
      "source": [
        "### Prepocessing Functions:\n",
        "\n",
        "There are modified library function for padding the sequences in a sorted order"
      ]
    },
    {
      "cell_type": "code",
      "metadata": {
        "id": "lVx5Qdh_v8Fb",
        "colab_type": "code",
        "colab": {}
      },
      "source": [
        "# change each letter in the name to a correposnding ASCII value\n",
        "def str2ascii(name):\n",
        "    arr = [ord(char) for char in name]\n",
        "    return arr, len(arr)\n",
        "\n",
        "\n",
        "# pad sequences and sort the tensor\n",
        "def pad_sequences(vectorized_seqs, seq_lengths):\n",
        "    seq_tensor = torch.zeros((len(vectorized_seqs), seq_lengths.max())).long()\n",
        "    for idx, (seq, seq_len) in enumerate(zip(vectorized_seqs, seq_lengths)):\n",
        "        seq_tensor[idx, :seq_len] = torch.LongTensor(seq)\n",
        "    return seq_tensor\n",
        "\n",
        "# Create necessary variables, lengths, and target\n",
        "def make_variables(names,nationalities):\n",
        "    sequence_and_length = [str2ascii(name) for name in names]\n",
        "    vectorized_seqs = [sl[0] for sl in sequence_and_length]\n",
        "    seq_lengths = torch.LongTensor([sl[1] for sl in sequence_and_length])\n",
        "\n",
        "   \n",
        "   #Modified part:\n",
        "\n",
        "    #Sort the sequences based on length (highest first) \n",
        "    vectorized_seqs=sorted(vectorized_seqs,key=len,reverse=True)\n",
        "    \n",
        " \n",
        "    #Sort the countries accordingly\n",
        "    name_list_mapping={}\n",
        "    j=0\n",
        "    for i in seq_lengths.tolist():\n",
        "      name_list_mapping[nationalities[j]]=i\n",
        "      j+=1\n",
        "    \n",
        "    \n",
        "\n",
        "    name_list_mapping={k: v for k, v in sorted(name_list_mapping.items(), key=lambda item: item[1],reverse=True)}\n",
        "    target=list(name_list_mapping.keys())\n",
        "    \n",
        "\n",
        "    # Sort the lengths too (highest first)\n",
        "    seq_lengths=sorted(seq_lengths.tolist(),reverse=True)\n",
        "    seq_lengths=torch.LongTensor(seq_lengths)\n",
        "   \n",
        "\n",
        "    return pad_sequences(vectorized_seqs, seq_lengths), seq_lengths.tolist(),target\n",
        "\n",
        "\n",
        "# Create a target tensor from country names\n",
        "def create_target_tensor(target_string):\n",
        "  target=[]\n",
        "  for i in target_string:\n",
        "    target.append(all_categories.index(i))\n",
        "\n",
        "  return target"
      ],
      "execution_count": 0,
      "outputs": []
    },
    {
      "cell_type": "markdown",
      "metadata": {
        "id": "TDO2oEfUSFIn",
        "colab_type": "text"
      },
      "source": [
        "### Driver Code (Check the dimensions of the model):"
      ]
    },
    {
      "cell_type": "code",
      "metadata": {
        "id": "K-vDAsDmIHIB",
        "colab_type": "code",
        "outputId": "f7a329e2-4c1e-4f0e-86b1-01ccc26b3e7a",
        "colab": {
          "base_uri": "https://localhost:8080/",
          "height": 442
        }
      },
      "source": [
        "lstm = Model() #model loading\n",
        "inputs=[]\n",
        "\n",
        "# you have to create this by your self\n",
        "names=['Dahab','Shin','Aquariuim', 'de']\n",
        "nationalities=['Arabic','Korean','Japanese','English']\n",
        "\n",
        "inputs, lengths,target_string=make_variables(names,nationalities)\n",
        "\n",
        "#print(inputs)  #padded and sorted  by their length\n",
        "print(\"Final Padded Batch/ Input for LSTM:\\n\",inputs)\n",
        "print(\"Each Sequence Length:\",lengths)\n",
        "print(\"Target Countries:\",target_string)\n",
        "\n",
        "target=create_target_tensor(target_string)\n",
        "target=torch.LongTensor(target)\n",
        "print(\"Target Countries's ID/ target for loss:\",target)\n",
        "\n",
        "out=lstm(inputs,lengths)\n",
        "print(\"\\n\\n-----------------LSTM Outpuut-----------------\\n\")\n",
        "print(\"Output's Shape:\",out.shape)\n",
        "print(\"FC Output:\",out)\n"
      ],
      "execution_count": 27,
      "outputs": [
        {
          "output_type": "stream",
          "text": [
            "Final Padded Batch/ Input for LSTM:\n",
            " tensor([[ 65, 113, 117,  97, 114, 105, 117, 105, 109],\n",
            "        [ 68,  97, 104,  97,  98,   0,   0,   0,   0],\n",
            "        [ 83, 104, 105, 110,   0,   0,   0,   0,   0],\n",
            "        [100, 101,   0,   0,   0,   0,   0,   0,   0]])\n",
            "Each Sequence Length: [9, 5, 4, 2]\n",
            "Target Countries: ['Japanese', 'Arabic', 'Korean', 'English']\n",
            "Target Countries's ID/ target for loss: tensor([11,  6,  8,  0])\n",
            "\n",
            "\n",
            "-----------------LSTM Outpuut-----------------\n",
            "\n",
            "Output's Shape: torch.Size([4, 18])\n",
            "FC Output: tensor([[-2.7194, -3.0146, -2.8485, -2.8926, -2.8220, -2.8171, -2.9673, -2.9254,\n",
            "         -2.8474, -2.9445, -2.9246, -2.8711, -3.0469, -2.9097, -2.9071, -2.9809,\n",
            "         -2.7192, -2.9364],\n",
            "        [-2.7510, -2.9272, -2.8669, -2.8189, -2.6391, -2.9863, -2.8636, -2.9421,\n",
            "         -2.9446, -2.9234, -2.9258, -2.9474, -2.9882, -2.8465, -3.0263, -3.0489,\n",
            "         -2.7419, -2.9357],\n",
            "        [-2.8353, -2.9193, -2.9588, -2.9130, -2.7370, -2.8192, -2.9929, -2.8276,\n",
            "         -2.8439, -3.0347, -2.8695, -2.9717, -2.8208, -2.7947, -2.9356, -3.0500,\n",
            "         -2.6901, -3.1199],\n",
            "        [-2.7869, -2.7606, -2.8874, -2.8075, -2.8368, -2.9835, -2.9382, -2.9785,\n",
            "         -3.0333, -3.0020, -2.9893, -2.8979, -2.8694, -2.8162, -2.8987, -2.9153,\n",
            "         -2.8086, -2.8727]], grad_fn=<LogSoftmaxBackward>)\n"
          ],
          "name": "stdout"
        }
      ]
    },
    {
      "cell_type": "markdown",
      "metadata": {
        "id": "3DKMwXxL_RNf",
        "colab_type": "text"
      },
      "source": [
        "### Helper Functions + Data split:\n",
        "80% Training - 20% Testing"
      ]
    },
    {
      "cell_type": "code",
      "metadata": {
        "id": "lt-uviahf4xd",
        "colab_type": "code",
        "outputId": "78dbd370-7aa5-4cb0-8f80-e1bcb82f6970",
        "colab": {
          "base_uri": "https://localhost:8080/",
          "height": 85
        }
      },
      "source": [
        "#original!\n",
        "# returns the category and its index based on the model output\n",
        "def categoryFromOutput(output): #need \n",
        "    top_n, top_i = output.topk(1)  #get the index of the greatest value\n",
        "    category_i = top_i[0].item()\n",
        "    return all_categories[category_i], category_i\n",
        "\n",
        "# test prediction function\n",
        "pred,_=categoryFromOutput(out[3])\n",
        "print(pred)\n",
        "\n",
        "import random\n",
        "\n",
        "#a very simple splitting technique\n",
        "trainingMode=1 # if set to 1 the data will be retrieved from the first 80% indices of each category otherwise it will be retrieved from the other 20%\n",
        "\n",
        "# pick a random element from a category: this function is modified to split data\n",
        "def randomChoice(l):\n",
        "  if trainingMode==1: # retrieve an element from the training set\n",
        "    return l[random.randint(0, int(0.8*len(l))-1)]\n",
        "  elif trainingMode==0: # retrieve an element from the testing set\n",
        "    return l[random.randint(int(0.8*len(l)), len(l)-1)]\n",
        "\n",
        "# pick a random category: no split needed\n",
        "def randomChoiceCategory(l):\n",
        "    return l[random.randint(0, len(l) - 1)]\n",
        "\n",
        "# pick a random category and a random name from that category\n",
        "def randomTrainingExample():\n",
        "    category = randomChoiceCategory(all_categories) #choose a random category\n",
        "    line = randomChoice(category_lines[category]) #choose a random name    \n",
        "    return category, line\n",
        "\n",
        "\n",
        "# test the upper functions (create batches)\n",
        "names=[]\n",
        "nationalities=[]\n",
        "for i in range(batch_size):\n",
        "    category, line = randomTrainingExample()\n",
        "    names.append(line)\n",
        "    nationalities.append(category)\n",
        "\n",
        "print(\"Batch is:\")\n",
        "print(names)\n",
        "print(nationalities)"
      ],
      "execution_count": 29,
      "outputs": [
        {
          "output_type": "stream",
          "text": [
            "Portuguese\n",
            "Batch is:\n",
            "['Deeb', 'Devin', 'Simon', 'Baggio', 'Riagain', 'Augustin', 'Sortras', 'Meadhra']\n",
            "['Arabic', 'Irish', 'Irish', 'Italian', 'Irish', 'French', 'Greek', 'Irish']\n"
          ],
          "name": "stdout"
        }
      ]
    },
    {
      "cell_type": "markdown",
      "metadata": {
        "id": "bePRVHgn_z-B",
        "colab_type": "text"
      },
      "source": [
        "### Training Function: "
      ]
    },
    {
      "cell_type": "code",
      "metadata": {
        "id": "AzN3K7rg_cTh",
        "colab_type": "code",
        "colab": {}
      },
      "source": [
        "criterion = nn.NLLLoss()\n",
        "lr = 0.005\n",
        "# This training function is for one batch of 8 names\n",
        "def train(target_categories, batched_names, sequence_lengths):\n",
        "    \n",
        "    output = lstm(batched_names, sequence_lengths)\n",
        "\n",
        "    # Calculate the loss and apply it backwards\n",
        "    loss = criterion(output, target_categories)\n",
        "    # print(\"L\\OSS {}\".format(loss))\n",
        "    loss.backward()\n",
        "\n",
        "    # Add parameters' gradients to their values, multiplied by learning rate\n",
        "    # This is for weight updates (similar to optimizer.step()) # backpropagation\n",
        "    for p in lstm.parameters():\n",
        "      p.data.add_(p.grad.data, alpha=-lr)\n",
        "    #optimizer.step()\n",
        "    return output,loss.item()"
      ],
      "execution_count": 0,
      "outputs": []
    },
    {
      "cell_type": "markdown",
      "metadata": {
        "id": "hcjv0Rwl_0yL",
        "colab_type": "text"
      },
      "source": [
        "### Training Function Driver:"
      ]
    },
    {
      "cell_type": "code",
      "metadata": {
        "id": "qxqum_yrAByl",
        "colab_type": "code",
        "outputId": "945e3fb3-fb8b-4e34-c2d7-ea34239226df",
        "colab": {
          "base_uri": "https://localhost:8080/",
          "height": 374
        }
      },
      "source": [
        "import time\n",
        "import math\n",
        "\n",
        "n_iters = 100000\n",
        "print_every = 5000\n",
        "plot_every = 1000\n",
        "\n",
        "trainingMode=1\n",
        "if trainingMode==1:\n",
        "  print(\"Using Training Set (80%) of all data\")\n",
        "else:\n",
        "  print(\"Using Testing Set (20%) of all data\")\n",
        "\n",
        "# Keep track of losses for plotting\n",
        "current_loss = 0\n",
        "all_losses = []\n",
        "\n",
        "def timeSince(since):\n",
        "    now = time.time()\n",
        "    s = now - since\n",
        "    m = math.floor(s / 60)\n",
        "    s -= m * 60\n",
        "    return '%dm %ds' % (m, s)\n",
        "\n",
        "start = time.time() # start the clock\n",
        "\n",
        "lstm.train()\n",
        "for iter in range(1, n_iters + 1):\n",
        "\n",
        "    lstm.zero_grad()\n",
        "    \n",
        "    # create a single batch\n",
        "    names=[]\n",
        "    nationalities=[]\n",
        "    # the batch has names from different categories\n",
        "    for i in range(batch_size):\n",
        "      category, line = randomTrainingExample()\n",
        "      while(category in nationalities): #not unqiue\n",
        "        category, line = randomTrainingExample()\n",
        "      \n",
        "      # unique addition\n",
        "      nationalities.append(category)\n",
        "      names.append(line)\n",
        "      \n",
        "\n",
        "    # change the names to padded, get their lengths, get their target country names\n",
        "    inputs, lengths,target_string=make_variables(names,nationalities)\n",
        "    #print(target_string)\n",
        "\n",
        "    # change the target country names to tensors\n",
        "    target=create_target_tensor(target_string)\n",
        "    target=torch.LongTensor(target)\n",
        "\n",
        "    output, loss = train(target,inputs,lengths ) # train for one name\n",
        "    current_loss += loss\n",
        "    #print(loss)\n",
        "\n",
        "    if iter % print_every == 0:\n",
        "      # for eacha name in the batch\n",
        "        for i in range(batch_size):\n",
        "          guess,_ = categoryFromOutput(output[i])\n",
        "          correct = '✓' if guess == target_string[i] else '✗ (%s)' % target_string[i]\n",
        "        print('%d %d%% (%s) %.4f / %s %s' % (iter, iter / n_iters * 100, timeSince(start), loss, guess, correct))\n",
        "\n",
        "\n",
        "    \n",
        "    # Print iter number, loss, name and guess\n",
        "    if iter % plot_every == 0:\n",
        "        all_losses.append(current_loss / plot_every) # the average loss per 1000 iter\n",
        "        current_loss = 0\n",
        "    \n"
      ],
      "execution_count": 31,
      "outputs": [
        {
          "output_type": "stream",
          "text": [
            "Using Training Set (80%) of all data\n",
            "5000 5% (0m 28s) 2.1131 / Vietnamese ✗ (Chinese)\n",
            "10000 10% (0m 56s) 1.4361 / Chinese ✗ (Korean)\n",
            "15000 15% (1m 23s) 1.3273 / Vietnamese ✓\n",
            "20000 20% (1m 52s) 0.9844 / French ✓\n",
            "25000 25% (2m 20s) 0.8231 / Korean ✓\n",
            "30000 30% (2m 47s) 0.6683 / Chinese ✓\n",
            "35000 35% (3m 16s) 0.5987 / Korean ✓\n",
            "40000 40% (3m 44s) 0.4962 / Korean ✓\n",
            "45000 45% (4m 11s) 0.4275 / Chinese ✓\n",
            "50000 50% (4m 39s) 0.3908 / Korean ✗ (Chinese)\n",
            "55000 55% (5m 7s) 0.9391 / Vietnamese ✗ (Korean)\n",
            "60000 60% (5m 35s) 0.5596 / Vietnamese ✗ (Chinese)\n",
            "65000 65% (6m 3s) 0.6097 / Chinese ✓\n",
            "70000 70% (6m 30s) 0.5918 / Vietnamese ✓\n",
            "75000 75% (6m 58s) 0.2551 / Japanese ✓\n",
            "80000 80% (7m 27s) 0.2117 / Vietnamese ✓\n",
            "85000 85% (7m 55s) 0.6248 / Chinese ✓\n",
            "90000 90% (8m 23s) 0.1634 / Vietnamese ✓\n",
            "95000 95% (8m 51s) 0.1567 / Korean ✓\n",
            "100000 100% (9m 19s) 0.1130 / Korean ✓\n"
          ],
          "name": "stdout"
        }
      ]
    },
    {
      "cell_type": "markdown",
      "metadata": {
        "id": "6pcFTtfUBrSv",
        "colab_type": "text"
      },
      "source": [
        "### Plot the training average loss per 1000 iterations:"
      ]
    },
    {
      "cell_type": "code",
      "metadata": {
        "id": "IoqOiQaZWxUK",
        "colab_type": "code",
        "outputId": "3f147cad-507d-4f42-fa7b-49f68e8e31f9",
        "colab": {
          "base_uri": "https://localhost:8080/",
          "height": 282
        }
      },
      "source": [
        "import matplotlib.pyplot as plt\n",
        "import matplotlib.ticker as ticker\n",
        "\n",
        "plt.figure()\n",
        "plt.plot(all_losses)"
      ],
      "execution_count": 32,
      "outputs": [
        {
          "output_type": "execute_result",
          "data": {
            "text/plain": [
              "[<matplotlib.lines.Line2D at 0x7f0abf942320>]"
            ]
          },
          "metadata": {
            "tags": []
          },
          "execution_count": 32
        },
        {
          "output_type": "display_data",
          "data": {
            "image/png": "[encoded data removed]",
            "text/plain": [
              "<Figure size 432x288 with 1 Axes>"
            ]
          },
          "metadata": {
            "tags": [],
            "needs_background": "light"
          }
        }
      ]
    },
    {
      "cell_type": "markdown",
      "metadata": {
        "id": "nEHZP3F3KDsi",
        "colab_type": "text"
      },
      "source": [
        "### Testing the model / Confusion matrix generation:\n",
        "Evaluation is done on a new unused testing set"
      ]
    },
    {
      "cell_type": "code",
      "metadata": {
        "id": "kRIINLWpio1A",
        "colab_type": "code",
        "colab": {
          "base_uri": "https://localhost:8080/",
          "height": 337
        },
        "outputId": "34362c49-da41-40dc-fb1b-b8d57ff5ba09"
      },
      "source": [
        "# Confusion Matrix: Rows are Categories | Columns are Guesses (this will show what are the guesses for each category)\n",
        "lstm.train()\n",
        "# 18 by 18 zero initiialztion matrix\n",
        "confusion = torch.zeros(n_categories, n_categories)\n",
        "n_confusion = 10000\n",
        "\n",
        "trainingMode=0 # choose data from the testing set\n",
        "if trainingMode==1:\n",
        "  print(\"Using Training Set (80%) of all data\")\n",
        "else:\n",
        "  print(\"Using Testing Set (20%) of all data\")\n",
        "\n",
        "# Just evaluate without backpropagation\n",
        "def evaluate(batched_names, sequence_lengths):\n",
        "\n",
        "    output = lstm(batched_names, sequence_lengths)\n",
        "\n",
        "    return output\n",
        "\n",
        "# Go through 10000 examples and record the result in the matrix\n",
        "for i in range(n_confusion):\n",
        "\n",
        "    # create a single batch\n",
        "    names=[]\n",
        "    nationalities=[]\n",
        "    # the batch has names from different categories\n",
        "    for i in range(batch_size):\n",
        "      category, line = randomTrainingExample()\n",
        "      while(category in nationalities): #not unqiue\n",
        "        category, line = randomTrainingExample()\n",
        "      \n",
        "      # unique addition\n",
        "      nationalities.append(category)\n",
        "      names.append(line)\n",
        "      \n",
        "\n",
        "    # change the names to padded, get their lengths, get their target country names\n",
        "    inputs, lengths,target_string=make_variables(names,nationalities)\n",
        "    #print(target_string)\n",
        "\n",
        "    # change the target country names to tensors\n",
        "    target=create_target_tensor(target_string)\n",
        "    #target=torch.LongTensor(target)\n",
        "\n",
        "    output = evaluate(inputs,lengths)\n",
        "    \n",
        "    for i in range(batch_size):\n",
        "      guess, guess_i = categoryFromOutput(output[i])\n",
        "      category_i = target[i]\n",
        "      confusion[category_i][guess_i] += 1\n",
        "\n",
        "# Normalize by dividing every row by its sum\n",
        "for i in range(n_categories):\n",
        "    confusion[i] = confusion[i] / confusion[i].sum()\n",
        "\n",
        "# Set up plot\n",
        "fig = plt.figure()\n",
        "ax = fig.add_subplot(111)\n",
        "cax = ax.matshow(confusion.numpy())\n",
        "fig.colorbar(cax)\n",
        "\n",
        "# Set up axes\n",
        "ax.set_xticklabels([''] + all_categories, rotation=90)\n",
        "ax.set_yticklabels([''] + all_categories)\n",
        "\n",
        "# Force label at every tick\n",
        "ax.xaxis.set_major_locator(ticker.MultipleLocator(1))\n",
        "ax.yaxis.set_major_locator(ticker.MultipleLocator(1))\n",
        "\n",
        "# sphinx_gallery_thumbnail_number = 2\n",
        "plt.show()"
      ],
      "execution_count": 34,
      "outputs": [
        {
          "output_type": "stream",
          "text": [
            "Using Testing Set (20%) of all data\n"
          ],
          "name": "stdout"
        },
        {
          "output_type": "display_data",
          "data": {
            "image/png": "[encoded data removed]",
            "text/plain": [
              "<Figure size 432x288 with 2 Axes>"
            ]
          },
          "metadata": {
            "tags": [],
            "needs_background": "light"
          }
        }
      ]
    },
    {
      "cell_type": "markdown",
      "metadata": {
        "id": "GQFpd3roSDvO",
        "colab_type": "text"
      },
      "source": [
        "### Testing Accuracy:\n",
        "Evaluation is done on a new unused testing set"
      ]
    },
    {
      "cell_type": "code",
      "metadata": {
        "id": "ztcK5vKAjCjm",
        "colab_type": "code",
        "colab": {
          "base_uri": "https://localhost:8080/",
          "height": 51
        },
        "outputId": "60bbe7df-0bf9-4c93-a302-3fd4a0098d0e"
      },
      "source": [
        "# Driver code for the testing accuracy calculation:\n",
        "trainingMode=0 # choose data from the testing set\n",
        "\n",
        "if trainingMode==1:\n",
        "  print(\"Using Training Set (80%) of all data\")\n",
        "else:\n",
        "  print(\"Using Testing Set (20%) of all data\")\n",
        "\n",
        "\n",
        "iterations= 10000\n",
        "correct_test=0\n",
        "total_test=0\n",
        "\n",
        "for i in range(iterations):\n",
        " # create a single batch sample\n",
        "    names=[]\n",
        "    nationalities=[]\n",
        "    # the batch has names from different categories\n",
        "    for i in range(batch_size):\n",
        "      category, line = randomTrainingExample()\n",
        "      while(category in nationalities): #not unqiue\n",
        "        category, line = randomTrainingExample()\n",
        "      \n",
        "      # unique addition\n",
        "      nationalities.append(category)\n",
        "      names.append(line)\n",
        "      \n",
        "\n",
        "    # change the names to padded, get their lengths, get their target country names\n",
        "    inputs, lengths,target_string=make_variables(names,nationalities)\n",
        "    #print(target_string)\n",
        "\n",
        "    # change the target country names to tensors\n",
        "    target=create_target_tensor(target_string)\n",
        "\n",
        "    with torch.no_grad():\n",
        "      output = evaluate(inputs,lengths)\n",
        "\n",
        "\n",
        "    for i in range(batch_size):\n",
        "      _, guess_i = categoryFromOutput(output[i])\n",
        "      category_i = target[i]\n",
        "      if(guess_i==category_i):\n",
        "        correct_test+=1\n",
        "      total_test+=1\n",
        "\n",
        "print(correct_test/total_test)"
      ],
      "execution_count": 36,
      "outputs": [
        {
          "output_type": "stream",
          "text": [
            "Using Testing Set (20%) of all data\n",
            "0.5161875\n"
          ],
          "name": "stdout"
        }
      ]
    },
    {
      "cell_type": "code",
      "metadata": {
        "id": "qnSPYMXGXWS5",
        "colab_type": "code",
        "colab": {}
      },
      "source": [
        ""
      ],
      "execution_count": 0,
      "outputs": []
    }
  ]
}