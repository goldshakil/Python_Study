{
 "cells": [
  {
   "cell_type": "markdown",
   "metadata": {
    "colab_type": "text",
    "id": "YH_KaFBJOFTb"
   },
   "source": [
   ]
  },
  {
   "cell_type": "code",
   "execution_count": 0,
   "metadata": {
    "colab": {},
    "colab_type": "code",
    "id": "QVCvc3Y5Whtg"
   },
   "outputs": [],
   "source": [
    "#Headers Definition\n",
    "import torch\n",
    "import torchvision\n",
    "from torchvision import transforms, datasets\n",
    "import torch.nn as nn \n",
    "import torch.nn.functional as F\n",
    "import torch.optim as optim\n",
    "import numpy as np\n",
    "from torch.utils.data.sampler import SubsetRandomSampler"
   ]
  },
  {
   "cell_type": "markdown",
   "metadata": {
    "colab_type": "text",
    "id": "pqFids7lPE9t"
   },
   "source": [
    "###Loading and splitting the data (Train/ Test/ Validate):"
   ]
  },
  {
   "cell_type": "code",
   "execution_count": 0,
   "metadata": {
    "colab": {
     "base_uri": "https://localhost:8080/",
     "height": 51
    },
    "colab_type": "code",
    "id": "SuZ8H3btWlsf",
    "outputId": "f0ec0911-ed9a-43a7-9fb5-3f4df48c17fb"
   },
   "outputs": [
    {
     "name": "stdout",
     "output_type": "stream",
     "text": [
      "Files already downloaded and verified\n",
      "Files already downloaded and verified\n"
     ]
    }
   ],
   "source": [
    "#Transformations\n",
    "transform = transforms.Compose([      transforms.RandomHorizontalFlip(),\n",
    "                                      transforms.RandomRotation(10),\n",
    "                                      transforms.ColorJitter(brightness=0.2, contrast=0.1, saturation=0.2),\n",
    "                                      transforms.ToTensor(),\n",
    "                                      transforms.Normalize((0.5, 0.5, 0.5), (0.5, 0.5, 0.5))\n",
    "                                     ]) #normalize each channel =>image = (image - mean) / std\n",
    "\n",
    "\n",
    "#loading the data and preprocessing it\n",
    "CIFAR_train= torchvision.datasets.CIFAR10(\"./data\",train=True, download=True, transform=transform) #Training Data\n",
    "CIFAR_test= torchvision.datasets.CIFAR10(\"./data\",train=False, download=True, transform=transform) #Testing Data\n",
    "\n",
    "#Create Validation Set\n",
    "indices = list(range(len(CIFAR_train)))\n",
    "np.random.shuffle(indices)\n",
    "\n",
    "split = int(np.floor(0.9 * len(CIFAR_train)))\n",
    "tr_idx, val_idx = indices[:split], indices[split:]\n",
    "\n",
    "tr_sampler = SubsetRandomSampler(tr_idx)\n",
    "val_sampler = SubsetRandomSampler(val_idx)\n",
    "\n",
    "# random_split() Issues: \n",
    "#tr, val = torch.utils.data.random_split(CIFAR_train, [int(len(CIFAR_train) * 0.9), int(len(CIFAR_train) * 0.1)])  \n",
    "\n",
    "#How are we gonna iterate over the data?\n",
    "train_loader= torch.utils.data.DataLoader(CIFAR_train,batch_size=4,sampler=tr_sampler) #batch_size : process the data in batches and make a better generalization\n",
    "valid_loader= torch.utils.data.DataLoader(CIFAR_train,batch_size=4,sampler=val_sampler)\n",
    "test_loader= torch.utils.data.DataLoader(CIFAR_test,batch_size=4,shuffle=False)  #shuffling the data makes a better generalization\n",
    "\n",
    "# data labels\n",
    "labels = ('plane', 'car', 'bird', 'cat', 'deer', 'dog', 'frog', 'horse', 'ship', 'truck')\n",
    "\n",
    "#each data has 4 images"
   ]
  },
  {
   "cell_type": "markdown",
   "metadata": {
    "colab_type": "text",
    "id": "TzgCuUGk0bIs"
   },
   "source": [
    "###This cell is only for checking the visuals for one picture (You can skip this): "
   ]
  },
  {
   "cell_type": "code",
   "execution_count": 0,
   "metadata": {
    "colab": {
     "base_uri": "https://localhost:8080/",
     "height": 317
    },
    "colab_type": "code",
    "id": "0bhP2QzdYnxU",
    "outputId": "684c600d-8fb4-4e32-e08c-d912762d5c71"
   },
   "outputs": [
    {
     "name": "stderr",
     "output_type": "stream",
     "text": [
      "Clipping input data to the valid range for imshow with RGB data ([0..1] for floats or [0..255] for integers).\n"
     ]
    },
    {
     "name": "stdout",
     "output_type": "stream",
     "text": [
      "torch.Size([4, 3, 32, 32])\n",
      "horse\n"
     ]
    },
    {
     "data": {
      "image/png": "[encoded data removed]",
      "text/plain": [
       "<Figure size 432x288 with 1 Axes>"
      ]
     },
     "metadata": {
      "needs_background": "light",
      "tags": []
     },
     "output_type": "display_data"
    }
   ],
   "source": [
    "import matplotlib.pyplot as plt\n",
    "import numpy as np\n",
    "\n",
    "#every type you run this it is shuffled\n",
    "for data in train_loader:\n",
    "  print(data[0].shape)  # batch_size, # channels, #height, #width\n",
    "  break\n",
    "\n",
    "# show images\n",
    "plt.imshow(np.transpose(data[0][0], (1, 2, 0))) #replace 0 with 1 axis and 1 with 2 and 2 with 0  -> output: height,width ,channel\n",
    "plt.show\n",
    "print(labels[data[1][0]])"
   ]
  },
  {
   "cell_type": "markdown",
   "metadata": {
    "colab_type": "text",
    "id": "hExW4SfwPsex"
   },
   "source": [
    "###Neural Network Definition:"
   ]
  },
  {
   "cell_type": "code",
   "execution_count": 0,
   "metadata": {
    "colab": {},
    "colab_type": "code",
    "id": "Qzx74mFFOsr3"
   },
   "outputs": [],
   "source": [
    "class Net(nn.Module):\n",
    "\n",
    "  def __init__(self):\n",
    "    super().__init__() #initialize your network\n",
    "    self.fc1=nn.Linear(32*32*3, 256) #32*32*3 -> first flattened image and fully connected layer\n",
    "    self.fc2=nn.Linear(256, 32) # second layer\n",
    "    self.fc3=nn.Linear(32, 10) #output layer has 10 neurons\n",
    "    \n",
    "  def forward(self,x):\n",
    "    x=F.relu(self.fc1(x)) # apply the activation function\n",
    "    x=F.relu(self.fc2(x)) # apply the activation function\n",
    "    x=self.fc3(x) # apply the activation function either zero or one ! so one of the node is fired \n",
    "    return F.log_softmax(x,dim=1)\n",
    "    #this function will return for each picture: 10 nodes (prediction value of each label)"
   ]
  },
  {
   "cell_type": "markdown",
   "metadata": {
    "colab_type": "text",
    "id": "Pt3IsmFaQRUS"
   },
   "source": [
    "###Driver Code:"
   ]
  },
  {
   "cell_type": "code",
   "execution_count": 0,
   "metadata": {
    "colab": {},
    "colab_type": "code",
    "id": "iyYJZ62-QTr8"
   },
   "outputs": [],
   "source": [
    "net=Net() #model\n",
    "optimizer=optim.Adam(net.parameters(),lr=0.001) #get adjustable parameters(weights) and optimize them\n",
    "criterion = nn.CrossEntropyLoss()\n",
    "total_epoch=30 #How many times we pass our full data (the same data)"
   ]
  },
  {
   "cell_type": "markdown",
   "metadata": {
    "colab_type": "text",
    "id": "ZIa5B6FdQc5D"
   },
   "source": [
    "###Training and Validation:"
   ]
  },
  {
   "cell_type": "code",
   "execution_count": 0,
   "metadata": {
    "colab": {
     "base_uri": "https://localhost:8080/",
     "height": 357
    },
    "colab_type": "code",
    "id": "ERxldKm4Qe7w",
    "outputId": "3e1fe4b7-483b-4e9d-f398-81ec6f0843e9"
   },
   "outputs": [
    {
     "name": "stdout",
     "output_type": "stream",
     "text": [
      " Epoch 3/30: Training Accuracy 0.42848888888888886 |  Training Loss 1.6069304905288748 || Validation Accuracy 0.4198 |  Validation Loss 1.6288685871839523\n",
      "-------------------------------------------------------------------------------------------------------------------------------\n",
      " Epoch 6/30: Training Accuracy 0.45653333333333335 |  Training Loss 1.5336547691636615 || Validation Accuracy 0.4626 |  Validation Loss 1.52523183658123\n",
      "-------------------------------------------------------------------------------------------------------------------------------\n",
      " Epoch 9/30: Training Accuracy 0.4712 |  Training Loss 1.4944394145306614 || Validation Accuracy 0.4532 |  Validation Loss 1.5201287608981133\n",
      "-------------------------------------------------------------------------------------------------------------------------------\n",
      " Epoch 12/30: Training Accuracy 0.48104444444444444 |  Training Loss 1.4629944808873865 || Validation Accuracy 0.4654 |  Validation Loss 1.513323668050766\n",
      "-------------------------------------------------------------------------------------------------------------------------------\n",
      " Epoch 15/30: Training Accuracy 0.49135555555555555 |  Training Loss 1.4473572291738457 || Validation Accuracy 0.4728 |  Validation Loss 1.5023929282963275\n",
      "-------------------------------------------------------------------------------------------------------------------------------\n",
      " Epoch 18/30: Training Accuracy 0.49495555555555554 |  Training Loss 1.4248057428485816 || Validation Accuracy 0.4528 |  Validation Loss 1.5569343018054962\n",
      "-------------------------------------------------------------------------------------------------------------------------------\n",
      " Epoch 21/30: Training Accuracy 0.5010444444444444 |  Training Loss 1.418428341909912 || Validation Accuracy 0.496 |  Validation Loss 1.4519433022856711\n",
      "-------------------------------------------------------------------------------------------------------------------------------\n",
      " Epoch 24/30: Training Accuracy 0.5088222222222222 |  Training Loss 1.3967097292474575 || Validation Accuracy 0.4904 |  Validation Loss 1.4991957429170608\n",
      "-------------------------------------------------------------------------------------------------------------------------------\n",
      " Epoch 27/30: Training Accuracy 0.5130444444444444 |  Training Loss 1.3904310803405113 || Validation Accuracy 0.477 |  Validation Loss 1.5119353418827057\n",
      "-------------------------------------------------------------------------------------------------------------------------------\n",
      " Epoch 30/30: Training Accuracy 0.5162666666666667 |  Training Loss 1.3752381254888244 || Validation Accuracy 0.4932 |  Validation Loss 1.4769770957887172\n",
      "-------------------------------------------------------------------------------------------------------------------------------\n"
     ]
    }
   ],
   "source": [
    "for cur_epoch in range(total_epoch):\n",
    "  train_correct=0\n",
    "  train_total=0\n",
    "  train_loss=0 #loss per epoch\n",
    "\n",
    "  valid_correct=0\n",
    "  valid_total=0\n",
    "  valid_loss=0 #loss per epoch\n",
    "  \n",
    "  for data in train_loader:\n",
    "    #every data consits of 4 (batch_size) images\n",
    "    X,y=data #picture(X batch_size), label(X batch_size) -> #batch size comes first #note that the label here is a number which is index in labels list\n",
    "    net.zero_grad()  \n",
    "    output = net(X.view(-1,32*32*3))  \n",
    "    loss = criterion(output, y) #calculate the error/ loss for the that batch (data)\n",
    "\n",
    "    loss.backward()  #computes dloss/dw for every parameter w  (loss for every parameter)\n",
    "    optimizer.step() #update weights\n",
    "    train_loss+=loss.item()\n",
    "\n",
    "    #calculate how many right do you have in every training data until the end of all training datas\n",
    "    #output is Batch_size*10 tensor\n",
    "    for k, i in enumerate(output): # the output is batch_size* 10 tensor   # k is the index of the data # i the data itself\n",
    "        if torch.argmax(i) == y[k]: # in every row find the highest prediction index and compare it to y[k]\n",
    "                train_correct += 1\n",
    "        train_total += 1\n",
    "\n",
    "  #validate for each epoch\n",
    "  with torch.no_grad(): # no gradient\n",
    "    for data in valid_loader:\n",
    "      X, y = data # store the images in X and labels in y\n",
    "      output = net(X.view(-1,32*32*3)) #send the 4 images\n",
    "      loss = criterion(output, y)\n",
    "\n",
    "      valid_loss += loss.item()\n",
    "\n",
    "      for k, i in enumerate(output): # the output is 4* 10 ARRAY\n",
    "          if torch.argmax(i) == y[k]: # in every row find the highest prediction and comprae its index\n",
    "              valid_correct += 1\n",
    "          valid_total += 1\n",
    "  \n",
    "  \n",
    "  if((cur_epoch+1)%(total_epoch*0.1)==0):\n",
    "    print(' Epoch {}/{}: Training Accuracy {} |  Training Loss {} || Validation Accuracy {} |  Validation Loss {}'.format(cur_epoch+1, total_epoch, train_correct/train_total,train_loss/len(train_loader),valid_correct/valid_total,valid_loss/len(valid_loader))) #accuray for each epoch\n",
    "    print('-------------------------------------------------------------------------------------------------------------------------------')"
   ]
  },
  {
   "cell_type": "markdown",
   "metadata": {
    "colab_type": "text",
    "id": "0rYhfRHKQmoG"
   },
   "source": [
    "###Testing:"
   ]
  },
  {
   "cell_type": "code",
   "execution_count": 0,
   "metadata": {
    "colab": {
     "base_uri": "https://localhost:8080/",
     "height": 34
    },
    "colab_type": "code",
    "id": "CsRP9l0_QoLX",
    "outputId": "547d9889-bebd-4904-eca4-ffa753d0b111"
   },
   "outputs": [
    {
     "name": "stdout",
     "output_type": "stream",
     "text": [
      "Test Accuracy:  0.478\n"
     ]
    }
   ],
   "source": [
    "correct =0\n",
    "total=0\n",
    "with torch.no_grad(): # no gradient\n",
    "  for data in test_loader:\n",
    "      X, y = data # store the images in X and labels in y\n",
    "      output = net(X.view(-1,32*32*3)) #send the 4 images\n",
    "      #print(output)\n",
    "      for k, i in enumerate(output): # the output is 4* 10 ARRAY\n",
    "          if torch.argmax(i) == y[k]: # in every row find the highest prediction and comprae its index\n",
    "              correct += 1\n",
    "          total += 1\n",
    "\n",
    "print(\"Test Accuracy: \", correct/total)"
   ]
  },
  {
   "cell_type": "code",
   "execution_count": 0,
   "metadata": {
    "colab": {},
    "colab_type": "code",
    "id": "qzuSDnn0ol-V"
   },
   "outputs": [],
   "source": []
  }
 ],
 "metadata": {
  "accelerator": "GPU",
  "colab": {
   "collapsed_sections": [],
   "name": "Homework5-2017314461-Muhammad.ipynb",
   "provenance": []
  },
  "kernelspec": {
   "display_name": "Python 3",
   "language": "python",
   "name": "python3"
  },
  "language_info": {
   "codemirror_mode": {
    "name": "ipython",
    "version": 3
   },
   "file_extension": ".py",
   "mimetype": "text/x-python",
   "name": "python",
   "nbconvert_exporter": "python",
   "pygments_lexer": "ipython3",
   "version": "3.7.6"
  }
 },
 "nbformat": 4,
 "nbformat_minor": 1
}
