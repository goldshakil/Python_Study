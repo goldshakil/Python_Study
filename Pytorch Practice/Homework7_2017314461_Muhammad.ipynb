{
 "cells": [
  {
   "cell_type": "markdown",
   "metadata": {
    "colab_type": "text",
    "id": "3c_EyBQAeVqG"
   },
   "source": [
    "## 2017314461 Muhammad Shakeel Zuhaib\n",
    "Homework 6 (AI Porject)\n",
    "\n",
    "CIFAR 10 with ResNet-18"
   ]
  },
  {
   "cell_type": "code",
   "execution_count": 0,
   "metadata": {
    "colab": {},
    "colab_type": "code",
    "id": "e4fHqJjYd-mo"
   },
   "outputs": [],
   "source": [
    "#Headers Definition\n",
    "import torch\n",
    "import torchvision\n",
    "from torchvision import transforms, datasets\n",
    "import torch.nn as nn \n",
    "import torch.nn.functional as F\n",
    "import torch.optim as optim\n",
    "import numpy as np\n",
    "from torch.utils.data.sampler import SubsetRandomSampler\n",
    "import random\n",
    "import time\n",
    "import os"
   ]
  },
  {
   "cell_type": "markdown",
   "metadata": {
    "colab_type": "text",
    "id": "in8tjl-5ecJx"
   },
   "source": [
    "###Loading and splitting the data (Train/ Test/ Validate):"
   ]
  },
  {
   "cell_type": "code",
   "execution_count": 0,
   "metadata": {
    "colab": {
     "base_uri": "https://localhost:8080/",
     "height": 51
    },
    "colab_type": "code",
    "id": "0IyOWHGwedGE",
    "outputId": "320312da-e5a1-495f-bb50-217c3c3c9781"
   },
   "outputs": [
    {
     "name": "stdout",
     "output_type": "stream",
     "text": [
      "Files already downloaded and verified\n",
      "Files already downloaded and verified\n"
     ]
    }
   ],
   "source": [
    "#Transformations\n",
    "transform = transforms.Compose([      transforms.RandomHorizontalFlip(),\n",
    "                                      transforms.ToTensor(),\n",
    "                                      transforms.Normalize((0.4914, 0.4822, 0.4465), (0.2023, 0.1994, 0.2010))\n",
    "                                     ]) #normalize each channel =>image = (image - mean) / std\n",
    "\n",
    "transform_test = transforms.Compose([ transforms.ToTensor(),\n",
    "                                      transforms.Normalize((0.4914, 0.4822, 0.4465), (0.2023, 0.1994, 0.2010))\n",
    "                                     ]) #normalize each channel =>image = (image - mean) / std\n",
    "\n",
    "                  \n",
    "\n",
    "\n",
    "#loading the dataset and preprocessing it\n",
    "CIFAR_train= torchvision.datasets.CIFAR10(\"./data\",train=True, download=True, transform=transform) #Training Data\n",
    "CIFAR_test= torchvision.datasets.CIFAR10(\"./data\",train=False, download=True, transform=transform_test) #Testing Data\n",
    "\n",
    "#Create Validation Set (Stratify from SKLEARN can be used but CIFAR is very balanced so no need)\n",
    "indices = list(range(len(CIFAR_train)))\n",
    "seed=30\n",
    "np.random.seed(seed)\n",
    "np.random.shuffle(indices)\n",
    "\n",
    "split = int(np.floor(0.9 * len(CIFAR_train)))\n",
    "tr_idx, val_idx = indices[:split], indices[split:]\n",
    "\n",
    "tr_sampler = SubsetRandomSampler(tr_idx)\n",
    "val_sampler = SubsetRandomSampler(val_idx)\n",
    " \n",
    "\n",
    "#How are we gonna iterate over the data?\n",
    "train_loader= torch.utils.data.DataLoader(CIFAR_train,batch_size=128,sampler=tr_sampler,num_workers=2) #batch_size : process the data in batches and make a better generalization\n",
    "valid_loader= torch.utils.data.DataLoader(CIFAR_train,batch_size=128,sampler=val_sampler,num_workers=2)\n",
    "test_loader= torch.utils.data.DataLoader(CIFAR_test,batch_size=128,shuffle=False,num_workers=2)  #shuffling the data makes a better generalization\n",
    "\n",
    "# data labels\n",
    "labels = ('plane', 'car', 'bird', 'cat', 'deer', 'dog', 'frog', 'horse', 'ship', 'truck')\n",
    "\n",
    "#each data has 4 images"
   ]
  },
  {
   "cell_type": "markdown",
   "metadata": {
    "colab_type": "text",
    "id": "Qpu6l7ONelgv"
   },
   "source": [
    "###This cell is only for checking the visuals for one picture (You can skip this): "
   ]
  },
  {
   "cell_type": "code",
   "execution_count": 0,
   "metadata": {
    "colab": {
     "base_uri": "https://localhost:8080/",
     "height": 317
    },
    "colab_type": "code",
    "id": "htzhbUzwejqq",
    "outputId": "fe516e8b-aaf0-4f83-d5ee-913b68111efd"
   },
   "outputs": [
    {
     "name": "stderr",
     "output_type": "stream",
     "text": [
      "Clipping input data to the valid range for imshow with RGB data ([0..1] for floats or [0..255] for integers).\n"
     ]
    },
    {
     "name": "stdout",
     "output_type": "stream",
     "text": [
      "torch.Size([128, 3, 32, 32])\n",
      "car\n"
     ]
    },
    {
     "data": {
      "image/png": "[encoded data removed]",
      "text/plain": [
       "<Figure size 432x288 with 1 Axes>"
      ]
     },
     "metadata": {
      "needs_background": "light",
      "tags": []
     },
     "output_type": "display_data"
    }
   ],
   "source": [
    "import matplotlib.pyplot as plt\n",
    "import numpy as np\n",
    "\n",
    "#every type you run this it is shuffled\n",
    "for data in train_loader:\n",
    "  print(data[0].shape)  # batch_size, # channels, #height, #width\n",
    "  break\n",
    "\n",
    "#Every data is a list of: 1.#(batch_size)images   2.#(batch_size)labels\n",
    "\n",
    "# show images\n",
    "plt.imshow(np.transpose(data[0][0], (1, 2, 0))) #replace 0 with 1 axis and 1 with 2 and 2 with 0  -> output: height,width ,channel\n",
    "plt.show\n",
    "print(labels[data[1][0]])"
   ]
  },
  {
   "cell_type": "markdown",
   "metadata": {
    "colab_type": "text",
    "id": "aVWNP-ajevOG"
   },
   "source": [
    "### Basic Block Definition (BottleNeck Block is not needed in ResNet-18):"
   ]
  },
  {
   "cell_type": "code",
   "execution_count": 0,
   "metadata": {
    "colab": {},
    "colab_type": "code",
    "id": "oF9L82G2etgf"
   },
   "outputs": [],
   "source": [
    "class BasicBlock(nn.Module):\n",
    "  #Initialize your BasicBlock strucutre\n",
    "  def __init__(self,in_channels,out_channels,stride=1):\n",
    "    super().__init__()\n",
    "\n",
    "    # Remember:\n",
    "        #Conv2d Parameters: input channels,output channels, size_kernel\n",
    "        #BatchNorm Goals: Normalize the outputs, parameters:(#output_channels/ node)\n",
    "    \n",
    "    #First Convolution: changes the dimensions of image according to the given parameters\n",
    "    self.conv1 = nn.Conv2d(in_channels, out_channels, 3, stride=stride, padding=1) #change channels   #reduce size to half if stride is set to two\n",
    "    self.bn1 = nn.BatchNorm2d(out_channels)\n",
    "\n",
    "    #Second Convolution: doesn't change the dimensions at all (ignore it in calculation)\n",
    "    self.conv2 = nn.Conv2d(out_channels, out_channels, kernel_size=3, stride=1, padding=1)\n",
    "    self.bn2 = nn.BatchNorm2d(out_channels)\n",
    "\n",
    "    #This changes the input size to match the output size: #change channels   #reduce size to half if stride is set to two\n",
    "    self.input_changer = nn.Sequential()\n",
    "    if stride != 1  or in_channels != out_channels:\n",
    "      self.input_changer = nn.Sequential( nn.Conv2d(in_channels, out_channels, 1, stride=stride),nn.BatchNorm2d(out_channels))\n",
    "\n",
    "  def forward(self, x):\n",
    "    output=x\n",
    "    #Pass through the first convolution\n",
    "    output= F.relu(self.bn1(self.conv1(output)))  #conv -> normalize -> activate/threshold\n",
    "    #Pass through the first convolution\n",
    "    output= F.relu(self.bn2(self.conv2(output)))\n",
    "    #Add the input\n",
    "    output+=self.input_changer(x)\n",
    "    return F.relu(output)"
   ]
  },
  {
   "cell_type": "markdown",
   "metadata": {
    "colab_type": "text",
    "id": "caa0jW2Sm2bS"
   },
   "source": [
    "### ResNet-18 Neural Network Definition:"
   ]
  },
  {
   "cell_type": "code",
   "execution_count": 0,
   "metadata": {
    "colab": {},
    "colab_type": "code",
    "id": "GpMMg605mgUY"
   },
   "outputs": [],
   "source": [
    "class ResNet_18(nn.Module):\n",
    "  #initialize your network strucutre\n",
    "  def __init__(self):\n",
    "    super().__init__()\n",
    "\n",
    "    self.conv1 = nn.Conv2d(3, 64, 3, stride=1, padding=1) #3,32,32 -> 64,32,32\n",
    "    self.bn1 = nn.BatchNorm2d(64)\n",
    "    \n",
    "    \n",
    "    #First Block: Change channels     #Second Block: Change dimesnsions using stride 2\n",
    "    self.conv2=nn.Sequential(BasicBlock(64,64,1),BasicBlock(64,64,1)) #64,32,32 -> 64,32,32 ->64,32,32\n",
    "\n",
    "    self.conv3=nn.Sequential(BasicBlock(64,128,1),BasicBlock(128,128,2)) #64,32,32 ->128,32,32 ->128,16,16\n",
    "    \n",
    "    self.conv4=nn.Sequential(BasicBlock(128,256,1),BasicBlock(256,256,2)) #128,16,16 ->256,16,16 ->256,8,8\n",
    "    \n",
    "    self.conv5=nn.Sequential(BasicBlock(256,512,1),BasicBlock(512,512,2)) #256,8,8 ->512,8,8 ->512,4,4\n",
    "\n",
    "    self.pool = nn.AvgPool2d(2, 2) #512,4,4 -> 512,2,2\n",
    "\n",
    "    self.fc=nn.Linear(512*2*2, 10)\n",
    "  \n",
    "  def forward(self, x):\n",
    "    x=F.relu(self.bn1(self.conv1(x))) #conv -> normalize -> activate/threshold\n",
    "\n",
    "    #BasicBlocks\n",
    "    x=self.conv2(x)\n",
    "    x=self.conv3(x)\n",
    "    x=self.conv4(x)\n",
    "    x=self.conv5(x)\n",
    "\n",
    "    x=self.pool(x)\n",
    "\n",
    "    #flatten\n",
    "    x=x.view(-1, 512*2*2)\n",
    "    x=self.fc(x)\n",
    "\n",
    "    return x\n"
   ]
  },
  {
   "cell_type": "markdown",
   "metadata": {
    "colab_type": "text",
    "id": "ndD1OLoD-tlb"
   },
   "source": [
    "###Driver Code:"
   ]
  },
  {
   "cell_type": "code",
   "execution_count": 0,
   "metadata": {
    "colab": {
     "base_uri": "https://localhost:8080/",
     "height": 51
    },
    "colab_type": "code",
    "id": "6yDG82jM0gFy",
    "outputId": "5716f152-432a-4074-b8b6-0449d40328dd"
   },
   "outputs": [
    {
     "name": "stdout",
     "output_type": "stream",
     "text": [
      "cuda:0\n",
      "This model is running on Tesla K80\n"
     ]
    }
   ],
   "source": [
    "# Select GPU if available\n",
    "device = torch.device(\"cuda:0\" if torch.cuda.is_available() else \"cpu\")\n",
    "print(device)\n",
    "print(\"This model is running on\" , torch.cuda.get_device_name())\n",
    "\n",
    "#Model\n",
    "net=ResNet_18().to(device)\n",
    "\n",
    "#Get adjustable parameters(weights) and optimize them \n",
    "optimizer=optim.Adam(net.parameters(),lr=0.001,weight_decay=0.0001) #weight decay is multiplied to weight to prevent them from growing too large\n",
    "\n",
    "#Error Function\n",
    "criterion = nn.CrossEntropyLoss() \n",
    "\n",
    "# Learning rate scheduler: adjusts learning rate as the epoch increases\n",
    "exp_lr_scheduler = optim.lr_scheduler.StepLR(optimizer, step_size=20, gamma=0.1) #Decays the learning rate by multiplyin by gamma every step_size epochs\n",
    "\n",
    "#How many times we pass our full data (the same data)\n",
    "total_epoch=30 "
   ]
  },
  {
   "cell_type": "markdown",
   "metadata": {
    "colab_type": "text",
    "id": "fvH7-Oc1_psN"
   },
   "source": [
    "###Training and Validation:"
   ]
  },
  {
   "cell_type": "code",
   "execution_count": 0,
   "metadata": {
    "colab": {
     "base_uri": "https://localhost:8080/",
     "height": 527
    },
    "colab_type": "code",
    "id": "WVhiNaxV-wgu",
    "outputId": "eb08bfb8-3594-4e03-c3a0-af75026c900b"
   },
   "outputs": [
    {
     "name": "stdout",
     "output_type": "stream",
     "text": [
      " Epoch 3/30: Training Accuracy 0.7513333333333333 |  Training Loss 0.704237716357139 || Validation Accuracy 0.756 |  Validation Loss 0.6715424120426178\n",
      " Best validation so far 0.756\n",
      "-------------------------------------------------------------------------------------------------------------------------------\n",
      " Epoch 6/30: Training Accuracy 0.8462666666666666 |  Training Loss 0.4440626120194793 || Validation Accuracy 0.7648 |  Validation Loss 0.7363364018499852\n",
      " Best validation so far 0.7648\n",
      "-------------------------------------------------------------------------------------------------------------------------------\n",
      " Epoch 9/30: Training Accuracy 0.8857555555555555 |  Training Loss 0.3339159118688919 || Validation Accuracy 0.8096 |  Validation Loss 0.6182809591293335\n",
      " Best validation so far 0.8312\n",
      "-------------------------------------------------------------------------------------------------------------------------------\n",
      " Epoch 12/30: Training Accuracy 0.9118444444444445 |  Training Loss 0.25493002111430874 || Validation Accuracy 0.84 |  Validation Loss 0.48219474107027055\n",
      " Best validation so far 0.8496\n",
      "-------------------------------------------------------------------------------------------------------------------------------\n",
      " Epoch 15/30: Training Accuracy 0.9263111111111111 |  Training Loss 0.21000520842657847 || Validation Accuracy 0.837 |  Validation Loss 0.5369500860571861\n",
      " Best validation so far 0.8598\n",
      "-------------------------------------------------------------------------------------------------------------------------------\n",
      " Epoch 18/30: Training Accuracy 0.9433111111111111 |  Training Loss 0.16251261228568514 || Validation Accuracy 0.8248 |  Validation Loss 0.599419393390417\n",
      " Best validation so far 0.866\n",
      "-------------------------------------------------------------------------------------------------------------------------------\n",
      " Epoch 21/30: Training Accuracy 0.9774888888888889 |  Training Loss 0.06997997026403689 || Validation Accuracy 0.9148 |  Validation Loss 0.28642312474548814\n",
      " Best validation so far 0.9148\n",
      "-------------------------------------------------------------------------------------------------------------------------------\n",
      " Epoch 24/30: Training Accuracy 0.9967333333333334 |  Training Loss 0.018173226487388918 || Validation Accuracy 0.914 |  Validation Loss 0.3026553526520729\n",
      " Best validation so far 0.9166\n",
      "-------------------------------------------------------------------------------------------------------------------------------\n",
      " Epoch 27/30: Training Accuracy 0.9993333333333333 |  Training Loss 0.006867757035334679 || Validation Accuracy 0.9162 |  Validation Loss 0.31782086528837683\n",
      " Best validation so far 0.917\n",
      "-------------------------------------------------------------------------------------------------------------------------------\n",
      " Epoch 30/30: Training Accuracy 0.9998222222222222 |  Training Loss 0.0034045338225868445 || Validation Accuracy 0.9138 |  Validation Loss 0.3342742435634136\n",
      " Best validation so far 0.917\n",
      "-------------------------------------------------------------------------------------------------------------------------------\n"
     ]
    }
   ],
   "source": [
    "best_valid_acc=0\n",
    "\n",
    "for cur_epoch in range(total_epoch):\n",
    "  train_correct=0\n",
    "  train_total=0\n",
    "  train_loss=0 #loss per epoch\n",
    "\n",
    "  valid_correct=0\n",
    "  valid_total=0\n",
    "  valid_loss=0 #loss per epoch\n",
    "  \n",
    "  net.train() #put the model in training mode\n",
    "  for data in train_loader:\n",
    "\n",
    "    #every data consits of (batch_size) images\n",
    "    X,y=data[0].to(device), data[1].to(device) #picture(X batch_size), label(X batch_size) -> #batch size comes first #note that the label here is a number which is index in labels list\n",
    "    \n",
    "    net.zero_grad()  \n",
    "    output = net(X)  \n",
    "    loss = criterion(output, y) #calculate the error/ loss for the that batch (data)\n",
    "\n",
    "    loss.backward()  #computes dloss/dw for every parameter w  (loss for every parameter)\n",
    "    optimizer.step() #update weights\n",
    "    train_loss+=loss.item()\n",
    "\n",
    "    #calculate how many right do you have in every training data until the end of all training datas\n",
    "    #output is Batch_size*10 tensor\n",
    "    for k, i in enumerate(output): # the output is batch_size* 10 tensor   # k is the index of the data # i the data itself\n",
    "        if torch.argmax(i) == y[k]: # in every row find the highest prediction index and compare it to y[k]\n",
    "                train_correct += 1\n",
    "        train_total += 1\n",
    "\n",
    "  exp_lr_scheduler.step() #learning rate adjustment\n",
    "  \n",
    "  net.eval() #put the model in evaluation mode\n",
    "  #validate for each epoch\n",
    "  with torch.no_grad(): # no gradient\n",
    "    for data in valid_loader:\n",
    "      X, y = data[0].to(device), data[1].to(device) # store the images in X and labels in y\n",
    "      output = net(X) \n",
    "      loss = criterion(output, y)\n",
    "\n",
    "      valid_loss += loss.item()\n",
    "\n",
    "      for k, i in enumerate(output): # the output is batch_size* 10 ARRAY\n",
    "          if torch.argmax(i) == y[k]: # in every row find the highest prediction and comprae its index\n",
    "              valid_correct += 1\n",
    "          valid_total += 1\n",
    "  \n",
    "  #if the model is better than the previous best store it\n",
    "  if((valid_correct/valid_total)>best_valid_acc):\n",
    "    best_valid_acc= (valid_correct/valid_total)\n",
    "    torch.save(net.state_dict(), \"./save_best.pth\") #save early stopping point\n",
    "\n",
    "  if((cur_epoch+1)%(total_epoch*0.1)==0):\n",
    "    print(' Epoch {}/{}: Training Accuracy {} |  Training Loss {} || Validation Accuracy {} |  Validation Loss {}'.format(cur_epoch+1, total_epoch, train_correct/train_total,train_loss/len(train_loader),valid_correct/valid_total,valid_loss/len(valid_loader))) #accuray for each epoch\n",
    "    print(' Best validation so far {}'.format(best_valid_acc))\n",
    "    print('-------------------------------------------------------------------------------------------------------------------------------')"
   ]
  },
  {
   "cell_type": "markdown",
   "metadata": {
    "colab_type": "text",
    "id": "sQpwjAelNzO0"
   },
   "source": [
    "###Testing:"
   ]
  },
  {
   "cell_type": "code",
   "execution_count": 0,
   "metadata": {
    "colab": {
     "base_uri": "https://localhost:8080/",
     "height": 34
    },
    "colab_type": "code",
    "id": "jsOHugmi_vdL",
    "outputId": "9bf3840d-7d37-4d21-ca79-8ec2063aeec4"
   },
   "outputs": [
    {
     "name": "stdout",
     "output_type": "stream",
     "text": [
      "Test Accuracy:  0.9028\n"
     ]
    }
   ],
   "source": [
    "#load the best validation accuracy model so far\n",
    "load_model = ResNet_18().to(device)\n",
    "load_model.load_state_dict(torch.load(\"./save_best.pth\")) \n",
    "\n",
    "load_model.eval()\n",
    "\n",
    "correct =0\n",
    "total=0\n",
    "with torch.no_grad(): # no gradient\n",
    "  for data in test_loader:\n",
    "      X, y = data[0].to(device), data[1].to(device) # store the images in X and labels in y\n",
    "      output = load_model(X) #send the 4 images\n",
    "      #print(output)\n",
    "      for k, i in enumerate(output): # the output is 4* 10 ARRAY\n",
    "          if torch.argmax(i) == y[k]: # in every row find the highest prediction and comprae its index\n",
    "              correct += 1\n",
    "          total += 1\n",
    "\n",
    "print(\"Test Accuracy: \", correct/total)"
   ]
  },
  {
   "cell_type": "code",
   "execution_count": 0,
   "metadata": {
    "colab": {},
    "colab_type": "code",
    "id": "gpGUdg_IN4uT"
   },
   "outputs": [],
   "source": []
  }
 ],
 "metadata": {
  "accelerator": "GPU",
  "colab": {
   "collapsed_sections": [],
   "name": "Homework7-2017314461-Muhammad.ipynb",
   "provenance": []
  },
  "kernelspec": {
   "display_name": "Python 3",
   "language": "python",
   "name": "python3"
  },
  "language_info": {
   "codemirror_mode": {
    "name": "ipython",
    "version": 3
   },
   "file_extension": ".py",
   "mimetype": "text/x-python",
   "name": "python",
   "nbconvert_exporter": "python",
   "pygments_lexer": "ipython3",
   "version": "3.7.6"
  },
  "toc": {
   "base_numbering": 1,
   "nav_menu": {},
   "number_sections": true,
   "sideBar": true,
   "skip_h1_title": false,
   "title_cell": "Table of Contents",
   "title_sidebar": "Contents",
   "toc_cell": false,
   "toc_position": {},
   "toc_section_display": true,
   "toc_window_display": false
  }
 },
 "nbformat": 4,
 "nbformat_minor": 1
}
